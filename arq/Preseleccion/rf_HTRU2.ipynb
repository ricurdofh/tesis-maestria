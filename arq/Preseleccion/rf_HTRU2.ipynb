{
 "cells": [
  {
   "cell_type": "markdown",
   "metadata": {},
   "source": [
    "## Importar librerías e inicializar variables"
   ]
  },
  {
   "cell_type": "code",
   "execution_count": 1,
   "metadata": {},
   "outputs": [],
   "source": [
    "from sklearn.feature_selection import SelectFromModel\n",
    "from sklearn.model_selection import train_test_split\n",
    "from sklearn.ensemble import RandomForestClassifier\n",
    "import numpy as np\n",
    "import pandas as pd\n",
    "import matplotlib.pyplot as plt\n",
    "%matplotlib inline"
   ]
  },
  {
   "cell_type": "code",
   "execution_count": 96,
   "metadata": {},
   "outputs": [],
   "source": [
    "############# HTRU_2 Dataset #########\n",
    "names_HTRU = [\n",
    "\t'Mean_i_p',\n",
    "\t'Standard_deviation_i_p',\n",
    "\t'Excess_kurtosis_i_p',\n",
    "\t'Skewness_i_p',\n",
    "\t'Mean_DM-SNR_curve',\n",
    "\t'Standard_deviation_DM-SNR_curve',\n",
    "\t'Excess_kurtosis_DM-SNR_curve',\n",
    "\t'Skewness_DM-SNR_curve', \n",
    "\t'Class'\n",
    "]\n",
    "\n",
    "data_HTRU = pd.read_csv(\"../Datasets/HTRU_2.csv\", delimiter = \",\", decimal = \".\", names=names_HTRU)\n",
    "\n",
    "rf_model1_HTRU = RandomForestClassifier(n_estimators=100, random_state=42, max_depth=9, max_features=5)\n",
    "rf_model2_HTRU = RandomForestClassifier(n_estimators=100, random_state=42, max_depth=15, max_features=3)\n",
    "rf_model3_HTRU = RandomForestClassifier(n_estimators=10, random_state=42, max_depth=15, max_features=3)\n",
    "rf_model4_HTRU = RandomForestClassifier(n_estimators=10, random_state=42, max_depth=5, max_features=8)"
   ]
  },
  {
   "cell_type": "markdown",
   "metadata": {},
   "source": [
    "## Pre-procesado de datos"
   ]
  },
  {
   "cell_type": "code",
   "execution_count": 4,
   "metadata": {},
   "outputs": [],
   "source": [
    "############# HTRU_2 Dataset #########\n",
    "target_HTRU = data_HTRU['Class']\n",
    "train_HTRU = data_HTRU.drop('Class', axis=1)\n",
    "\n",
    "X_train_HTRU, X_test_HTRU, y_train_HTRU, y_test_HTRU = train_test_split(train_HTRU, target_HTRU, random_state=0, test_size=.2)\n"
   ]
  },
  {
   "cell_type": "markdown",
   "metadata": {},
   "source": [
    "## Feature Engineering"
   ]
  },
  {
   "cell_type": "markdown",
   "metadata": {},
   "source": [
    "#### 1. Selección de featureset con una máxima profundidad de 9 para los árboles y 5 features por árbol"
   ]
  },
  {
   "cell_type": "code",
   "execution_count": 116,
   "metadata": {},
   "outputs": [
    {
     "name": "stdout",
     "output_type": "stream",
     "text": [
      "Número de features original para HTRU:  (14318, 8)\n",
      "Número de features seleccionados para HTRU:  (14318, 4)\n"
     ]
    }
   ],
   "source": [
    "############# HTRU_2 Dataset #########\n",
    "\n",
    "select_HTRU = SelectFromModel(rf_model1_HTRU, threshold=0.025)\n",
    "select_HTRU.fit(X_train_HTRU, y_train_HTRU)\n",
    "X_train_s_HTRU = select_HTRU.transform(X_train_HTRU)\n",
    "\n",
    "print('Número de features original para HTRU: ', X_train_HTRU.shape)\n",
    "print('Número de features seleccionados para HTRU: ', X_train_s_HTRU.shape)"
   ]
  },
  {
   "cell_type": "code",
   "execution_count": 117,
   "metadata": {},
   "outputs": [
    {
     "data": {
      "text/plain": [
       "Text(0.5,0,'Features HTRU')"
      ]
     },
     "execution_count": 117,
     "metadata": {},
     "output_type": "execute_result"
    },
    {
     "data": {
      "image/png": "[encoded data removed]",
      "text/plain": [
       "<Figure size 1152x144 with 1 Axes>"
      ]
     },
     "metadata": {
      "needs_background": "light"
     },
     "output_type": "display_data"
    }
   ],
   "source": [
    "mask_HTRU = select_HTRU.get_support()\n",
    "plt.matshow(mask_HTRU.reshape(1,-1), cmap='gray_r')\n",
    "plt.xlabel('Features HTRU')"
   ]
  },
  {
   "cell_type": "code",
   "execution_count": 5,
   "metadata": {},
   "outputs": [],
   "source": [
    "#f_rf_HTRU = pd.DataFrame(np.asarray(train_HTRU)[:,select_HTRU.get_support()])\n",
    "#f_rf_HTRU.to_csv('features_rf_HTRU.csv', header=None, index=None)"
   ]
  },
  {
   "cell_type": "code",
   "execution_count": 118,
   "metadata": {},
   "outputs": [
    {
     "data": {
      "text/plain": [
       "array([0, 2, 3, 5])"
      ]
     },
     "execution_count": 118,
     "metadata": {},
     "output_type": "execute_result"
    }
   ],
   "source": [
    "#Features extraídos\n",
    "num = np.array(range(0,8))\n",
    "num[select_HTRU.get_support()]"
   ]
  },
  {
   "cell_type": "markdown",
   "metadata": {},
   "source": [
    "#### 2. Selección de featureset con máxima profundidad de 15 para los árboles y 3 features por árbol"
   ]
  },
  {
   "cell_type": "code",
   "execution_count": 119,
   "metadata": {},
   "outputs": [
    {
     "name": "stdout",
     "output_type": "stream",
     "text": [
      "Número de features original para HTRU:  (14318, 8)\n",
      "Número de features seleccionados para HTRU:  (14318, 4)\n"
     ]
    }
   ],
   "source": [
    "############# HTRU_2 Dataset #########\n",
    "\n",
    "select_HTRU = SelectFromModel(rf_model2_HTRU, threshold=0.05)\n",
    "select_HTRU.fit(X_train_HTRU, y_train_HTRU)\n",
    "X_train_s_HTRU = select_HTRU.transform(X_train_HTRU)\n",
    "\n",
    "print('Número de features original para HTRU: ', X_train_HTRU.shape)\n",
    "print('Número de features seleccionados para HTRU: ', X_train_s_HTRU.shape)"
   ]
  },
  {
   "cell_type": "code",
   "execution_count": 120,
   "metadata": {},
   "outputs": [
    {
     "data": {
      "text/plain": [
       "Text(0.5,0,'Features HTRU')"
      ]
     },
     "execution_count": 120,
     "metadata": {},
     "output_type": "execute_result"
    },
    {
     "data": {
      "image/png": "[encoded data removed]",
      "text/plain": [
       "<Figure size 1152x144 with 1 Axes>"
      ]
     },
     "metadata": {
      "needs_background": "light"
     },
     "output_type": "display_data"
    }
   ],
   "source": [
    "mask_HTRU = select_HTRU.get_support()\n",
    "plt.matshow(mask_HTRU.reshape(1,-1), cmap='gray_r')\n",
    "plt.xlabel('Features HTRU')"
   ]
  },
  {
   "cell_type": "code",
   "execution_count": 121,
   "metadata": {},
   "outputs": [
    {
     "data": {
      "text/plain": [
       "array([0, 2, 3, 4])"
      ]
     },
     "execution_count": 121,
     "metadata": {},
     "output_type": "execute_result"
    }
   ],
   "source": [
    "#Features extraídos\n",
    "num = np.array(range(0,8))\n",
    "num[select_HTRU.get_support()]"
   ]
  },
  {
   "cell_type": "markdown",
   "metadata": {},
   "source": [
    "#### 3. Selección con menos árboles"
   ]
  },
  {
   "cell_type": "code",
   "execution_count": 122,
   "metadata": {},
   "outputs": [
    {
     "name": "stdout",
     "output_type": "stream",
     "text": [
      "Número de features original para HTRU:  (14318, 8)\n",
      "Número de features seleccionados para HTRU:  (14318, 5)\n"
     ]
    }
   ],
   "source": [
    "############# HTRU_2 Dataset #########\n",
    "\n",
    "select_HTRU = SelectFromModel(rf_model3_HTRU, threshold=0.0285)\n",
    "select_HTRU.fit(X_train_HTRU, y_train_HTRU)\n",
    "X_train_s_HTRU = select_HTRU.transform(X_train_HTRU)\n",
    "\n",
    "print('Número de features original para HTRU: ', X_train_HTRU.shape)\n",
    "print('Número de features seleccionados para HTRU: ', X_train_s_HTRU.shape)"
   ]
  },
  {
   "cell_type": "code",
   "execution_count": 123,
   "metadata": {},
   "outputs": [
    {
     "data": {
      "text/plain": [
       "Text(0.5,0,'Features HTRU')"
      ]
     },
     "execution_count": 123,
     "metadata": {},
     "output_type": "execute_result"
    },
    {
     "data": {
      "image/png": "[encoded data removed]",
      "text/plain": [
       "<Figure size 1152x144 with 1 Axes>"
      ]
     },
     "metadata": {
      "needs_background": "light"
     },
     "output_type": "display_data"
    }
   ],
   "source": [
    "mask_HTRU = select_HTRU.get_support()\n",
    "plt.matshow(mask_HTRU.reshape(1,-1), cmap='gray_r')\n",
    "plt.xlabel('Features HTRU')"
   ]
  },
  {
   "cell_type": "code",
   "execution_count": 124,
   "metadata": {},
   "outputs": [
    {
     "data": {
      "text/plain": [
       "array([0, 1, 2, 3, 5])"
      ]
     },
     "execution_count": 124,
     "metadata": {},
     "output_type": "execute_result"
    }
   ],
   "source": [
    "#Features extraídos\n",
    "num = np.array(range(0,8))\n",
    "num[select_HTRU.get_support()]"
   ]
  },
  {
   "cell_type": "markdown",
   "metadata": {},
   "source": [
    "#### 4. Selección con menos árboles y todos los features por cada árbol"
   ]
  },
  {
   "cell_type": "code",
   "execution_count": 125,
   "metadata": {},
   "outputs": [
    {
     "name": "stdout",
     "output_type": "stream",
     "text": [
      "Número de features original para HTRU:  (14318, 8)\n",
      "Número de features seleccionados para HTRU:  (14318, 3)\n"
     ]
    }
   ],
   "source": [
    "############# HTRU_2 Dataset #########\n",
    "\n",
    "select_HTRU = SelectFromModel(rf_model4_HTRU, threshold=0.01)\n",
    "select_HTRU.fit(X_train_HTRU, y_train_HTRU)\n",
    "X_train_s_HTRU = select_HTRU.transform(X_train_HTRU)\n",
    "\n",
    "print('Número de features original para HTRU: ', X_train_HTRU.shape)\n",
    "print('Número de features seleccionados para HTRU: ', X_train_s_HTRU.shape)"
   ]
  },
  {
   "cell_type": "code",
   "execution_count": 126,
   "metadata": {},
   "outputs": [
    {
     "data": {
      "text/plain": [
       "Text(0.5,0,'Features HTRU')"
      ]
     },
     "execution_count": 126,
     "metadata": {},
     "output_type": "execute_result"
    },
    {
     "data": {
      "image/png": "[encoded data removed]",
      "text/plain": [
       "<Figure size 1152x144 with 1 Axes>"
      ]
     },
     "metadata": {
      "needs_background": "light"
     },
     "output_type": "display_data"
    }
   ],
   "source": [
    "mask_HTRU = select_HTRU.get_support()\n",
    "plt.matshow(mask_HTRU.reshape(1,-1), cmap='gray_r')\n",
    "plt.xlabel('Features HTRU')"
   ]
  },
  {
   "cell_type": "code",
   "execution_count": 127,
   "metadata": {},
   "outputs": [
    {
     "data": {
      "text/plain": [
       "array([1, 2, 5])"
      ]
     },
     "execution_count": 127,
     "metadata": {},
     "output_type": "execute_result"
    }
   ],
   "source": [
    "#Features extraídos\n",
    "num = np.array(range(0,8))\n",
    "num[select_HTRU.get_support()]"
   ]
  }
 ],
 "metadata": {
  "kernelspec": {
   "display_name": "Python 3",
   "language": "python",
   "name": "python3"
  },
  "language_info": {
   "codemirror_mode": {
    "name": "ipython",
    "version": 3
   },
   "file_extension": ".py",
   "mimetype": "text/x-python",
   "name": "python",
   "nbconvert_exporter": "python",
   "pygments_lexer": "ipython3",
   "version": "3.5.3"
  }
 },
 "nbformat": 4,
 "nbformat_minor": 2
}
