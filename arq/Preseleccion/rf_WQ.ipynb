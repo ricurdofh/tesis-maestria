{
 "cells": [
  {
   "cell_type": "markdown",
   "metadata": {},
   "source": [
    "## Importar librerías e inicializar variables"
   ]
  },
  {
   "cell_type": "code",
   "execution_count": 1,
   "metadata": {},
   "outputs": [],
   "source": [
    "from sklearn.feature_selection import SelectFromModel\n",
    "from sklearn.model_selection import train_test_split\n",
    "from sklearn.ensemble import RandomForestClassifier\n",
    "import numpy as np\n",
    "import pandas as pd\n",
    "import matplotlib.pyplot as plt\n",
    "%matplotlib inline"
   ]
  },
  {
   "cell_type": "code",
   "execution_count": 62,
   "metadata": {},
   "outputs": [],
   "source": [
    "############# Wine Quality Dataset #########\n",
    "data_WQ = pd.read_csv(\"../Datasets/winequality-white.csv\", delimiter = \";\", decimal = \".\")\n",
    "\n",
    "rf_model1_WQ = RandomForestClassifier(n_estimators=100, random_state=42, max_depth=15, max_features=2)\n",
    "rf_model2_WQ = RandomForestClassifier(n_estimators=100, random_state=42, max_depth=9, max_features=2)\n",
    "rf_model3_WQ = RandomForestClassifier(n_estimators=10, random_state=42, max_depth=50, max_features=6)\n",
    "rf_model4_WQ = RandomForestClassifier(n_estimators=10, random_state=42, max_depth=5, max_features=6)"
   ]
  },
  {
   "cell_type": "markdown",
   "metadata": {},
   "source": [
    "## Pre-procesado de datos"
   ]
  },
  {
   "cell_type": "code",
   "execution_count": 3,
   "metadata": {},
   "outputs": [],
   "source": [
    "############# Wine Quality Dataset #########\n",
    "target_WQ = data_WQ['quality']\n",
    "train_WQ = data_WQ.drop('quality', axis=1)\n",
    "\n",
    "X_train_WQ, X_test_WQ, y_train_WQ, y_test_WQ = train_test_split(train_WQ, target_WQ, random_state=0, test_size=.2)\n"
   ]
  },
  {
   "cell_type": "markdown",
   "metadata": {},
   "source": [
    "## Feature Engineering"
   ]
  },
  {
   "cell_type": "markdown",
   "metadata": {},
   "source": [
    "#### 1. Selección de featureset con una máxima profundidad de 15 para los árboles y 2 features por árbol"
   ]
  },
  {
   "cell_type": "code",
   "execution_count": 73,
   "metadata": {},
   "outputs": [
    {
     "name": "stdout",
     "output_type": "stream",
     "text": [
      "Número de features original para WQ:  (3918, 11)\n",
      "Número de features seleccionados para WQ:  (3918, 7)\n"
     ]
    }
   ],
   "source": [
    "############# Wine Quality Dataset #########\n",
    "\n",
    "select_WQ = SelectFromModel(rf_model1_WQ, threshold=0.085)\n",
    "select_WQ.fit(X_train_WQ, y_train_WQ)\n",
    "X_train_s_WQ = select_WQ.transform(X_train_WQ)\n",
    "\n",
    "print('Número de features original para WQ: ', X_train_WQ.shape)\n",
    "print('Número de features seleccionados para WQ: ', X_train_s_WQ.shape)"
   ]
  },
  {
   "cell_type": "code",
   "execution_count": 74,
   "metadata": {},
   "outputs": [
    {
     "data": {
      "text/plain": [
       "Text(0.5,0,'Features WQ')"
      ]
     },
     "execution_count": 74,
     "metadata": {},
     "output_type": "execute_result"
    },
    {
     "data": {
      "image/png": "[encoded data removed]",
      "text/plain": [
       "<Figure size 1152x144 with 1 Axes>"
      ]
     },
     "metadata": {
      "needs_background": "light"
     },
     "output_type": "display_data"
    }
   ],
   "source": [
    "mask_WQ = select_WQ.get_support()\n",
    "plt.matshow(mask_WQ.reshape(1,-1), cmap='gray_r')\n",
    "plt.xlabel('Features WQ')"
   ]
  },
  {
   "cell_type": "code",
   "execution_count": 75,
   "metadata": {},
   "outputs": [
    {
     "data": {
      "text/plain": [
       "array([ 1,  3,  4,  5,  6,  7, 10])"
      ]
     },
     "execution_count": 75,
     "metadata": {},
     "output_type": "execute_result"
    }
   ],
   "source": [
    "#Features extraídos\n",
    "num = np.array(range(0,11))\n",
    "num[select_WQ.get_support()]"
   ]
  },
  {
   "cell_type": "markdown",
   "metadata": {},
   "source": [
    "#### 2. Selección de featureset con máxima profundidad de 9 para los árboles y 2 features por árbol"
   ]
  },
  {
   "cell_type": "code",
   "execution_count": 10,
   "metadata": {},
   "outputs": [
    {
     "name": "stdout",
     "output_type": "stream",
     "text": [
      "Número de features original para WQ:  (3918, 11)\n",
      "Número de features seleccionados para WQ:  (3918, 5)\n"
     ]
    }
   ],
   "source": [
    "############# Wine Quality Dataset #########\n",
    "\n",
    "select_WQ = SelectFromModel(rf_model2_WQ, threshold=0.081)\n",
    "select_WQ.fit(X_train_WQ, y_train_WQ)\n",
    "X_train_s_WQ = select_WQ.transform(X_train_WQ)\n",
    "\n",
    "print('Número de features original para WQ: ', X_train_WQ.shape)\n",
    "print('Número de features seleccionados para WQ: ', X_train_s_WQ.shape)"
   ]
  },
  {
   "cell_type": "code",
   "execution_count": 11,
   "metadata": {},
   "outputs": [
    {
     "data": {
      "text/plain": [
       "Text(0.5,0,'Features WQ')"
      ]
     },
     "execution_count": 11,
     "metadata": {},
     "output_type": "execute_result"
    },
    {
     "data": {
      "image/png": "[encoded data removed]",
      "text/plain": [
       "<Figure size 1152x144 with 1 Axes>"
      ]
     },
     "metadata": {
      "needs_background": "light"
     },
     "output_type": "display_data"
    }
   ],
   "source": [
    "mask_WQ = select_WQ.get_support()\n",
    "plt.matshow(mask_WQ.reshape(1,-1), cmap='gray_r')\n",
    "plt.xlabel('Features WQ')"
   ]
  },
  {
   "cell_type": "code",
   "execution_count": 12,
   "metadata": {},
   "outputs": [
    {
     "data": {
      "text/plain": [
       "array([ 1,  4,  5,  7, 10])"
      ]
     },
     "execution_count": 12,
     "metadata": {},
     "output_type": "execute_result"
    }
   ],
   "source": [
    "#Features extraídos\n",
    "num = np.array(range(0,11))\n",
    "num[select_WQ.get_support()]"
   ]
  },
  {
   "cell_type": "markdown",
   "metadata": {},
   "source": [
    "#### 3. Selección de featureset con una máxima profundidad de 50 para los árboles y 10 árboles"
   ]
  },
  {
   "cell_type": "code",
   "execution_count": 43,
   "metadata": {},
   "outputs": [
    {
     "name": "stdout",
     "output_type": "stream",
     "text": [
      "Número de features original para WQ:  (3918, 11)\n",
      "Número de features seleccionados para WQ:  (3918, 6)\n"
     ]
    }
   ],
   "source": [
    "############# Wine Quality Dataset #########\n",
    "\n",
    "select_WQ = SelectFromModel(rf_model3_WQ, threshold=0.084)\n",
    "select_WQ.fit(X_train_WQ, y_train_WQ)\n",
    "X_train_s_WQ = select_WQ.transform(X_train_WQ)\n",
    "\n",
    "print('Número de features original para WQ: ', X_train_WQ.shape)\n",
    "print('Número de features seleccionados para WQ: ', X_train_s_WQ.shape)"
   ]
  },
  {
   "cell_type": "code",
   "execution_count": 44,
   "metadata": {},
   "outputs": [
    {
     "data": {
      "text/plain": [
       "Text(0.5,0,'Features WQ')"
      ]
     },
     "execution_count": 44,
     "metadata": {},
     "output_type": "execute_result"
    },
    {
     "data": {
      "image/png": "[encoded data removed]",
      "text/plain": [
       "<Figure size 1152x144 with 1 Axes>"
      ]
     },
     "metadata": {
      "needs_background": "light"
     },
     "output_type": "display_data"
    }
   ],
   "source": [
    "mask_WQ = select_WQ.get_support()\n",
    "plt.matshow(mask_WQ.reshape(1,-1), cmap='gray_r')\n",
    "plt.xlabel('Features WQ')"
   ]
  },
  {
   "cell_type": "code",
   "execution_count": 45,
   "metadata": {},
   "outputs": [
    {
     "data": {
      "text/plain": [
       "array([ 1,  5,  6,  7,  9, 10])"
      ]
     },
     "execution_count": 45,
     "metadata": {},
     "output_type": "execute_result"
    }
   ],
   "source": [
    "#Features extraídos\n",
    "num = np.array(range(0,11))\n",
    "num[select_WQ.get_support()]"
   ]
  },
  {
   "cell_type": "markdown",
   "metadata": {},
   "source": [
    "#### 4. Selección de featureset con una máxima profundidad de 5 para los árboles y 10 árboles"
   ]
  },
  {
   "cell_type": "code",
   "execution_count": 63,
   "metadata": {},
   "outputs": [
    {
     "name": "stdout",
     "output_type": "stream",
     "text": [
      "Número de features original para WQ:  (3918, 11)\n",
      "Número de features seleccionados para WQ:  (3918, 4)\n"
     ]
    }
   ],
   "source": [
    "############# Wine Quality Dataset #########\n",
    "\n",
    "select_WQ = SelectFromModel(rf_model4_WQ, threshold=0.081)\n",
    "select_WQ.fit(X_train_WQ, y_train_WQ)\n",
    "X_train_s_WQ = select_WQ.transform(X_train_WQ)\n",
    "\n",
    "print('Número de features original para WQ: ', X_train_WQ.shape)\n",
    "print('Número de features seleccionados para WQ: ', X_train_s_WQ.shape)"
   ]
  },
  {
   "cell_type": "code",
   "execution_count": 64,
   "metadata": {},
   "outputs": [
    {
     "data": {
      "text/plain": [
       "Text(0.5,0,'Features WQ')"
      ]
     },
     "execution_count": 64,
     "metadata": {},
     "output_type": "execute_result"
    },
    {
     "data": {
      "image/png": "[encoded data removed]",
      "text/plain": [
       "<Figure size 1152x144 with 1 Axes>"
      ]
     },
     "metadata": {
      "needs_background": "light"
     },
     "output_type": "display_data"
    }
   ],
   "source": [
    "mask_WQ = select_WQ.get_support()\n",
    "plt.matshow(mask_WQ.reshape(1,-1), cmap='gray_r')\n",
    "plt.xlabel('Features WQ')"
   ]
  },
  {
   "cell_type": "code",
   "execution_count": 65,
   "metadata": {},
   "outputs": [
    {
     "data": {
      "text/plain": [
       "array([ 1,  5,  7, 10])"
      ]
     },
     "execution_count": 65,
     "metadata": {},
     "output_type": "execute_result"
    }
   ],
   "source": [
    "#Features extraídos\n",
    "num = np.array(range(0,11))\n",
    "num[select_WQ.get_support()]"
   ]
  }
 ],
 "metadata": {
  "kernelspec": {
   "display_name": "Python 3",
   "language": "python",
   "name": "python3"
  },
  "language_info": {
   "codemirror_mode": {
    "name": "ipython",
    "version": 3
   },
   "file_extension": ".py",
   "mimetype": "text/x-python",
   "name": "python",
   "nbconvert_exporter": "python",
   "pygments_lexer": "ipython3",
   "version": "3.5.3"
  }
 },
 "nbformat": 4,
 "nbformat_minor": 2
}
