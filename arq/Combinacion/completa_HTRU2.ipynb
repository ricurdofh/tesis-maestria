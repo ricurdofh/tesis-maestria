{
 "cells": [
  {
   "cell_type": "markdown",
   "metadata": {},
   "source": [
    "## Inicializar variables"
   ]
  },
  {
   "cell_type": "code",
   "execution_count": 28,
   "metadata": {},
   "outputs": [],
   "source": [
    "feature_sets = [\n",
    "    [0, 2, 3, 5],\n",
    "    [0, 2, 3, 4],\n",
    "    [0, 1, 2, 3, 5],\n",
    "    [1, 2, 5],\n",
    "    [2, 3, 5, 6],\n",
    "    [0, 2, 3, 6],\n",
    "    [0, 3, 4, 5],\n",
    "    [0, 4, 5, 7]\n",
    "]\n",
    "final = []"
   ]
  },
  {
   "cell_type": "markdown",
   "metadata": {},
   "source": [
    "## Selección"
   ]
  },
  {
   "cell_type": "code",
   "execution_count": 29,
   "metadata": {},
   "outputs": [],
   "source": [
    "for i in range(0, len(feature_sets)):\n",
    "    for j in range(0, len(feature_sets[i])):\n",
    "        if not feature_sets[i][j] in final:\n",
    "            final.append(feature_sets[i][j])\n",
    "final.sort()"
   ]
  },
  {
   "cell_type": "code",
   "execution_count": 30,
   "metadata": {},
   "outputs": [
    {
     "name": "stdout",
     "output_type": "stream",
     "text": [
      "Feature set final:  [0, 1, 2, 3, 4, 5, 6, 7]\n"
     ]
    }
   ],
   "source": [
    "print('Feature set final: ', final)"
   ]
  }
 ],
 "metadata": {
  "kernelspec": {
   "display_name": "Python 3",
   "language": "python",
   "name": "python3"
  },
  "language_info": {
   "codemirror_mode": {
    "name": "ipython",
    "version": 3
   },
   "file_extension": ".py",
   "mimetype": "text/x-python",
   "name": "python",
   "nbconvert_exporter": "python",
   "pygments_lexer": "ipython3",
   "version": "3.5.3"
  }
 },
 "nbformat": 4,
 "nbformat_minor": 2
}
