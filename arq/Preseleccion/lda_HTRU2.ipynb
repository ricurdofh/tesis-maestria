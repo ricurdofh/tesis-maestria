{
 "cells": [
  {
   "cell_type": "markdown",
   "metadata": {},
   "source": [
    "## Importar librerías e inicializar variables"
   ]
  },
  {
   "cell_type": "code",
   "execution_count": 7,
   "metadata": {},
   "outputs": [],
   "source": [
    "import numpy as np\n",
    "import pandas as pd\n",
    "import matplotlib.pyplot as plt\n",
    "from sklearn.model_selection import train_test_split\n",
    "from sklearn.feature_selection import SelectFromModel\n",
    "from sklearn.discriminant_analysis import LinearDiscriminantAnalysis\n",
    "%matplotlib inline"
   ]
  },
  {
   "cell_type": "code",
   "execution_count": 85,
   "metadata": {},
   "outputs": [],
   "source": [
    "############# HTRU_2 Dataset #########\n",
    "names_HTRU = [\n",
    "\t'Mean_i_p',\n",
    "\t'Standard_deviation_i_p',\n",
    "\t'Excess_kurtosis_i_p',\n",
    "\t'Skewness_i_p',\n",
    "\t'Mean_DM-SNR_curve',\n",
    "\t'Standard_deviation_DM-SNR_curve',\n",
    "\t'Excess_kurtosis_DM-SNR_curve',\n",
    "\t'Skewness_DM-SNR_curve', \n",
    "\t'Class'\n",
    "]\n",
    "\n",
    "data_HTRU = pd.read_csv(\"../Datasets/HTRU_2.csv\", delimiter = \",\", decimal = \".\", names=names_HTRU)\n",
    "\n",
    "lda_model1_HTRU = LinearDiscriminantAnalysis(solver='eigen', shrinkage='auto')\n",
    "lda_model2_HTRU = LinearDiscriminantAnalysis(solver='svd')\n",
    "lda_model3_HTRU = LinearDiscriminantAnalysis(solver='lsqr', shrinkage=0.5)\n",
    "lda_model4_HTRU = LinearDiscriminantAnalysis(solver='eigen', shrinkage=0.5)\n"
   ]
  },
  {
   "cell_type": "markdown",
   "metadata": {},
   "source": [
    "## Pre-procesado de datos"
   ]
  },
  {
   "cell_type": "code",
   "execution_count": 9,
   "metadata": {},
   "outputs": [],
   "source": [
    "############# HTRU_2 Dataset #########\n",
    "target_HTRU = data_HTRU['Class']\n",
    "train_HTRU = data_HTRU.drop('Class', axis=1)\n",
    "\n",
    "X_train_HTRU, X_test_HTRU, y_train_HTRU, y_test_HTRU = train_test_split(train_HTRU, target_HTRU, random_state=0, test_size=.5)"
   ]
  },
  {
   "cell_type": "markdown",
   "metadata": {},
   "source": [
    "## Feature Engineering"
   ]
  },
  {
   "cell_type": "markdown",
   "metadata": {},
   "source": [
    "#### 1. Selección de feature set con solver=eigen"
   ]
  },
  {
   "cell_type": "code",
   "execution_count": 10,
   "metadata": {},
   "outputs": [
    {
     "name": "stdout",
     "output_type": "stream",
     "text": [
      "Número de features original para HTRU:  (8949, 8)\n",
      "Número de features seleccionados para HTRU:  (8949, 4)\n"
     ]
    }
   ],
   "source": [
    "############# HTRU_2 Dataset #########\n",
    "\n",
    "select_HTRU = SelectFromModel(lda_model1_HTRU, threshold=0.03)\n",
    "select_HTRU.fit(X_train_HTRU, y_train_HTRU)\n",
    "X_train_s_HTRU = select_HTRU.transform(X_train_HTRU)\n",
    "\n",
    "print('Número de features original para HTRU: ', X_train_HTRU.shape)\n",
    "print('Número de features seleccionados para HTRU: ', X_train_s_HTRU.shape)"
   ]
  },
  {
   "cell_type": "code",
   "execution_count": 11,
   "metadata": {},
   "outputs": [
    {
     "data": {
      "text/plain": [
       "Text(0.5,0,'Features HTRU')"
      ]
     },
     "execution_count": 11,
     "metadata": {},
     "output_type": "execute_result"
    },
    {
     "data": {
      "image/png": "[encoded data removed]",
      "text/plain": [
       "<Figure size 1152x144 with 1 Axes>"
      ]
     },
     "metadata": {
      "needs_background": "light"
     },
     "output_type": "display_data"
    }
   ],
   "source": [
    "mask_HTRU = select_HTRU.get_support()\n",
    "plt.matshow(mask_HTRU.reshape(1,-1), cmap='gray_r')\n",
    "plt.xlabel('Features HTRU')"
   ]
  },
  {
   "cell_type": "code",
   "execution_count": 12,
   "metadata": {},
   "outputs": [],
   "source": [
    "#f_lda_HTRU = pd.DataFrame(np.asarray(train_HTRU)[:,select_HTRU.get_support()])\n",
    "#f_lda_HTRU.to_csv('features_lda_HTRU.csv', header=None, index=None)"
   ]
  },
  {
   "cell_type": "code",
   "execution_count": 13,
   "metadata": {},
   "outputs": [
    {
     "data": {
      "text/plain": [
       "array([2, 3, 5, 6])"
      ]
     },
     "execution_count": 13,
     "metadata": {},
     "output_type": "execute_result"
    }
   ],
   "source": [
    "#Features extraídos\n",
    "num = np.array(range(0,8))\n",
    "num[select_HTRU.get_support()]"
   ]
  },
  {
   "cell_type": "markdown",
   "metadata": {},
   "source": [
    "#### 2. Selección de feature set con solver=svd"
   ]
  },
  {
   "cell_type": "code",
   "execution_count": 91,
   "metadata": {},
   "outputs": [
    {
     "name": "stdout",
     "output_type": "stream",
     "text": [
      "Número de features original para HTRU:  (8949, 8)\n",
      "Número de features seleccionados para HTRU:  (8949, 4)\n"
     ]
    }
   ],
   "source": [
    "############# HTRU_2 Dataset #########\n",
    "\n",
    "select_HTRU = SelectFromModel(lda_model2_HTRU, threshold=0.12)\n",
    "select_HTRU.fit(X_train_HTRU, y_train_HTRU)\n",
    "X_train_s_HTRU = select_HTRU.transform(X_train_HTRU)\n",
    "\n",
    "print('Número de features original para HTRU: ', X_train_HTRU.shape)\n",
    "print('Número de features seleccionados para HTRU: ', X_train_s_HTRU.shape)"
   ]
  },
  {
   "cell_type": "code",
   "execution_count": 92,
   "metadata": {},
   "outputs": [
    {
     "data": {
      "text/plain": [
       "Text(0.5,0,'Features HTRU')"
      ]
     },
     "execution_count": 92,
     "metadata": {},
     "output_type": "execute_result"
    },
    {
     "data": {
      "image/png": "[encoded data removed]",
      "text/plain": [
       "<Figure size 1152x144 with 1 Axes>"
      ]
     },
     "metadata": {
      "needs_background": "light"
     },
     "output_type": "display_data"
    }
   ],
   "source": [
    "mask_HTRU = select_HTRU.get_support()\n",
    "plt.matshow(mask_HTRU.reshape(1,-1), cmap='gray_r')\n",
    "plt.xlabel('Features HTRU')"
   ]
  },
  {
   "cell_type": "code",
   "execution_count": 93,
   "metadata": {},
   "outputs": [
    {
     "data": {
      "text/plain": [
       "array([0, 2, 3, 6])"
      ]
     },
     "execution_count": 93,
     "metadata": {},
     "output_type": "execute_result"
    }
   ],
   "source": [
    "#Features extraídos\n",
    "num = np.array(range(0,8))\n",
    "num[select_HTRU.get_support()]"
   ]
  },
  {
   "cell_type": "markdown",
   "metadata": {},
   "source": [
    "#### 3. Selección de feature set con solver=lsqr"
   ]
  },
  {
   "cell_type": "code",
   "execution_count": 61,
   "metadata": {},
   "outputs": [
    {
     "name": "stdout",
     "output_type": "stream",
     "text": [
      "Número de features original para HTRU:  (8949, 8)\n",
      "Número de features seleccionados para HTRU:  (8949, 4)\n"
     ]
    }
   ],
   "source": [
    "############# HTRU_2 Dataset #########\n",
    "\n",
    "select_HTRU = SelectFromModel(lda_model3_HTRU, threshold=0.015)\n",
    "select_HTRU.fit(X_train_HTRU, y_train_HTRU)\n",
    "X_train_s_HTRU = select_HTRU.transform(X_train_HTRU)\n",
    "\n",
    "print('Número de features original para HTRU: ', X_train_HTRU.shape)\n",
    "print('Número de features seleccionados para HTRU: ', X_train_s_HTRU.shape)"
   ]
  },
  {
   "cell_type": "code",
   "execution_count": 62,
   "metadata": {},
   "outputs": [
    {
     "data": {
      "text/plain": [
       "Text(0.5,0,'Features HTRU')"
      ]
     },
     "execution_count": 62,
     "metadata": {},
     "output_type": "execute_result"
    },
    {
     "data": {
      "image/png": "[encoded data removed]",
      "text/plain": [
       "<Figure size 1152x144 with 1 Axes>"
      ]
     },
     "metadata": {
      "needs_background": "light"
     },
     "output_type": "display_data"
    }
   ],
   "source": [
    "mask_HTRU = select_HTRU.get_support()\n",
    "plt.matshow(mask_HTRU.reshape(1,-1), cmap='gray_r')\n",
    "plt.xlabel('Features HTRU')"
   ]
  },
  {
   "cell_type": "code",
   "execution_count": 63,
   "metadata": {},
   "outputs": [
    {
     "data": {
      "text/plain": [
       "array([0, 3, 4, 5])"
      ]
     },
     "execution_count": 63,
     "metadata": {},
     "output_type": "execute_result"
    }
   ],
   "source": [
    "#Features extraídos\n",
    "num = np.array(range(0,8))\n",
    "num[select_HTRU.get_support()]"
   ]
  },
  {
   "cell_type": "markdown",
   "metadata": {},
   "source": [
    "#### 4 Selección de feature set con solver=eigen shrinkage=0.5"
   ]
  },
  {
   "cell_type": "code",
   "execution_count": 88,
   "metadata": {},
   "outputs": [
    {
     "name": "stdout",
     "output_type": "stream",
     "text": [
      "Número de features original para HTRU:  (8949, 8)\n",
      "Número de features seleccionados para HTRU:  (8949, 4)\n"
     ]
    }
   ],
   "source": [
    "############# HTRU_2 Dataset #########\n",
    "\n",
    "select_HTRU = SelectFromModel(lda_model4_HTRU, threshold=19.9)\n",
    "select_HTRU.fit(X_train_HTRU, y_train_HTRU)\n",
    "X_train_s_HTRU = select_HTRU.transform(X_train_HTRU)\n",
    "\n",
    "print('Número de features original para HTRU: ', X_train_HTRU.shape)\n",
    "print('Número de features seleccionados para HTRU: ', X_train_s_HTRU.shape)"
   ]
  },
  {
   "cell_type": "code",
   "execution_count": 89,
   "metadata": {},
   "outputs": [
    {
     "data": {
      "text/plain": [
       "Text(0.5,0,'Features HTRU')"
      ]
     },
     "execution_count": 89,
     "metadata": {},
     "output_type": "execute_result"
    },
    {
     "data": {
      "image/png": "[encoded data removed]",
      "text/plain": [
       "<Figure size 1152x144 with 1 Axes>"
      ]
     },
     "metadata": {
      "needs_background": "light"
     },
     "output_type": "display_data"
    }
   ],
   "source": [
    "mask_HTRU = select_HTRU.get_support()\n",
    "plt.matshow(mask_HTRU.reshape(1,-1), cmap='gray_r')\n",
    "plt.xlabel('Features HTRU')"
   ]
  },
  {
   "cell_type": "code",
   "execution_count": 90,
   "metadata": {},
   "outputs": [
    {
     "data": {
      "text/plain": [
       "array([0, 4, 5, 7])"
      ]
     },
     "execution_count": 90,
     "metadata": {},
     "output_type": "execute_result"
    }
   ],
   "source": [
    "#Features extraídos\n",
    "num = np.array(range(0,8))\n",
    "num[select_HTRU.get_support()]"
   ]
  }
 ],
 "metadata": {
  "kernelspec": {
   "display_name": "Python 3",
   "language": "python",
   "name": "python3"
  },
  "language_info": {
   "codemirror_mode": {
    "name": "ipython",
    "version": 3
   },
   "file_extension": ".py",
   "mimetype": "text/x-python",
   "name": "python",
   "nbconvert_exporter": "python",
   "pygments_lexer": "ipython3",
   "version": "3.5.3"
  }
 },
 "nbformat": 4,
 "nbformat_minor": 2
}
