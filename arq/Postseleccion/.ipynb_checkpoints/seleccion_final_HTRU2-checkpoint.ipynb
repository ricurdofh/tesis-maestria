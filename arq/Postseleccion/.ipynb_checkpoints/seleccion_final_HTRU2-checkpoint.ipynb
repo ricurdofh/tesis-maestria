{
 "cells": [
  {
   "cell_type": "markdown",
   "metadata": {},
   "source": [
    "## Importar librerías e inicializar variables"
   ]
  },
  {
   "cell_type": "code",
   "execution_count": 256,
   "metadata": {},
   "outputs": [],
   "source": [
    "from sklearn.feature_selection import SelectFromModel\n",
    "from sklearn.model_selection import train_test_split\n",
    "from sklearn.ensemble import RandomForestClassifier\n",
    "from sklearn.metrics import accuracy_score\n",
    "from sklearn.metrics import f1_score\n",
    "import numpy as np\n",
    "import pandas as pd\n",
    "import matplotlib.pyplot as plt\n",
    "%matplotlib inline"
   ]
  },
  {
   "cell_type": "code",
   "execution_count": 257,
   "metadata": {},
   "outputs": [],
   "source": [
    "############# HTRU_2 Dataset #########\n",
    "names_HTRU = [\n",
    "\t'Mean_i_p',\n",
    "\t'Standard_deviation_i_p',\n",
    "\t'Excess_kurtosis_i_p',\n",
    "\t'Skewness_i_p',\n",
    "\t'Mean_DM-SNR_curve',\n",
    "\t'Standard_deviation_DM-SNR_curve',\n",
    "\t'Excess_kurtosis_DM-SNR_curve',\n",
    "\t'Skewness_DM-SNR_curve', \n",
    "\t'Class'\n",
    "]\n",
    "\n",
    "data_HTRU = pd.read_csv(\"../Datasets/HTRU_2.csv\", delimiter = \",\", decimal = \".\", names=names_HTRU)"
   ]
  },
  {
   "cell_type": "markdown",
   "metadata": {},
   "source": [
    "## Pre-procesado de datos"
   ]
  },
  {
   "cell_type": "code",
   "execution_count": 276,
   "metadata": {},
   "outputs": [],
   "source": [
    "############# HTRU_2 Dataset #########\n",
    "target_HTRU = data_HTRU['Class']\n",
    "train_HTRU = data_HTRU.drop('Class', axis=1)\n",
    "\n",
    "# 1. [2, 3, 5, 6]\n",
    "train1_HTRU = train_HTRU[[names_HTRU[2], names_HTRU[3], names_HTRU[5], names_HTRU[6]]]\n",
    "X_train1_HTRU, X_test1_HTRU, y_train1_HTRU, y_test1_HTRU = train_test_split(train1_HTRU, target_HTRU, random_state=0, test_size=.2)\n",
    "\n",
    "# 2. [1, 2, 5]\n",
    "train2_HTRU = train_HTRU[[names_HTRU[1], names_HTRU[2], names_HTRU[5]]]\n",
    "X_train2_HTRU, X_test2_HTRU, y_train2_HTRU, y_test2_HTRU = train_test_split(train2_HTRU, target_HTRU, random_state=0, test_size=.2)\n",
    "\n",
    "# 3. [0, 2, 3, 5]\n",
    "train3_HTRU = train_HTRU[[names_HTRU[0], names_HTRU[2], names_HTRU[3], names_HTRU[5]]]\n",
    "X_train3_HTRU, X_test3_HTRU, y_train3_HTRU, y_test3_HTRU = train_test_split(train3_HTRU, target_HTRU, random_state=0, test_size=.2)\n",
    "\n",
    "# 4. [0, 1, 2, 3, 4, 5, 6, 7]\n",
    "train4_HTRU = train_HTRU[[names_HTRU[1], names_HTRU[2], names_HTRU[5]]]\n",
    "X_train4_HTRU, X_test4_HTRU, y_train4_HTRU, y_test4_HTRU = train_test_split(train4_HTRU, target_HTRU, random_state=0, test_size=.2)\n",
    "\n",
    "# 5. [2, 3, 5, 6]\n",
    "train5_HTRU = train_HTRU[[names_HTRU[2], names_HTRU[3], names_HTRU[5], names_HTRU[6]]]\n",
    "X_train5_HTRU, X_test5_HTRU, y_train5_HTRU, y_test5_HTRU = train_test_split(train5_HTRU, target_HTRU, random_state=0, test_size=.2)\n",
    "\n",
    "# 6. [0, 2, 3, 6]\n",
    "train6_HTRU = train_HTRU[[names_HTRU[0], names_HTRU[2], names_HTRU[3], names_HTRU[6]]]\n",
    "X_train6_HTRU, X_test6_HTRU, y_train6_HTRU, y_test6_HTRU = train_test_split(train6_HTRU, target_HTRU, random_state=0, test_size=.2)\n",
    "\n",
    "# 7. [0, 3, 4, 5]\n",
    "train7_HTRU = train_HTRU[[names_HTRU[0], names_HTRU[3], names_HTRU[4], names_HTRU[5]]]\n",
    "X_train7_HTRU, X_test7_HTRU, y_train7_HTRU, y_test7_HTRU = train_test_split(train7_HTRU, target_HTRU, random_state=0, test_size=.2)\n",
    "\n",
    "# 8. [0, 4, 5, 7]\n",
    "train8_HTRU = train_HTRU[[names_HTRU[0], names_HTRU[4], names_HTRU[5], names_HTRU[7]]]\n",
    "X_train8_HTRU, X_test8_HTRU, y_train8_HTRU, y_test8_HTRU = train_test_split(train8_HTRU, target_HTRU, random_state=0, test_size=.2)\n"
   ]
  },
  {
   "cell_type": "markdown",
   "metadata": {},
   "source": [
    "## Clasificación"
   ]
  },
  {
   "cell_type": "markdown",
   "metadata": {},
   "source": [
    "#### 1. Clasificación con Random Forest"
   ]
  },
  {
   "cell_type": "code",
   "execution_count": 259,
   "metadata": {},
   "outputs": [],
   "source": [
    "rf_class_HTRU = RandomForestClassifier(n_estimators=100, random_state=42, max_depth=9)"
   ]
  },
  {
   "cell_type": "code",
   "execution_count": 260,
   "metadata": {
    "scrolled": true
   },
   "outputs": [
    {
     "name": "stdout",
     "output_type": "stream",
     "text": [
      "Clasificación featureset 1 con accuracy HTRU2: 0.985\n",
      "Clasificación featureset 1 con f-measure HTRU2: 0.985\n"
     ]
    }
   ],
   "source": [
    "rf_class_HTRU.fit(X_train1_HTRU, y_train1_HTRU)\n",
    "\n",
    "accuracy_RF1 = accuracy_score(y_test1_HTRU, rf_class_HTRU.predict(X_test1_HTRU))\n",
    "print('Clasificación featureset 1 con accuracy HTRU2: {:.3f}'.format(accuracy_RF1))\n",
    "\n",
    "f1_RF1 = f1_score(y_test1_HTRU, rf_class_HTRU.predict(X_test1_HTRU), average='weighted')\n",
    "print('Clasificación featureset 1 con f-measure HTRU2: {:.3f}'.format(f1_RF1))\n",
    "\n",
    "total_RF1 = ((0.6 * f1_RF1) + (0.4 * accuracy_RF1)) / 2"
   ]
  },
  {
   "cell_type": "code",
   "execution_count": 261,
   "metadata": {},
   "outputs": [
    {
     "name": "stdout",
     "output_type": "stream",
     "text": [
      "Clasificación featureset 2 con accuracy HTRU2: 0.984\n",
      "Clasificación featureset 2 con f-measure HTRU2: 0.984\n"
     ]
    }
   ],
   "source": [
    "rf_class_HTRU.fit(X_train2_HTRU, y_train2_HTRU)\n",
    "\n",
    "accuracy_RF2 = accuracy_score(y_test2_HTRU, rf_class_HTRU.predict(X_test2_HTRU))\n",
    "print('Clasificación featureset 2 con accuracy HTRU2: {:.3f}'.format(accuracy_RF2))\n",
    "\n",
    "f1_RF2 = f1_score(y_test2_HTRU, rf_class_HTRU.predict(X_test2_HTRU), average='weighted')\n",
    "print('Clasificación featureset 2 con f-measure HTRU2: {:.3f}'.format(f1_RF2))\n",
    "\n",
    "total_RF2 = ((0.6 * f1_RF2) + (0.4 * accuracy_RF2)) / 2"
   ]
  },
  {
   "cell_type": "code",
   "execution_count": 262,
   "metadata": {},
   "outputs": [
    {
     "name": "stdout",
     "output_type": "stream",
     "text": [
      "Clasificación featureset 3 con accuracy HTRU2: 0.984\n",
      "Clasificación featureset 3 con f-measure HTRU2: 0.984\n"
     ]
    }
   ],
   "source": [
    "rf_class_HTRU.fit(X_train3_HTRU, y_train3_HTRU)\n",
    "\n",
    "accuracy_RF3 = accuracy_score(y_test3_HTRU, rf_class_HTRU.predict(X_test3_HTRU))\n",
    "print('Clasificación featureset 3 con accuracy HTRU2: {:.3f}'.format(accuracy_RF3))\n",
    "\n",
    "f1_RF3 = f1_score(y_test3_HTRU, rf_class_HTRU.predict(X_test3_HTRU), average='weighted')\n",
    "print('Clasificación featureset 3 con f-measure HTRU2: {:.3f}'.format(f1_RF3))\n",
    "\n",
    "total_RF3 = ((0.6 * f1_RF3) + (0.4 * accuracy_RF3)) / 2"
   ]
  },
  {
   "cell_type": "code",
   "execution_count": 263,
   "metadata": {},
   "outputs": [
    {
     "name": "stdout",
     "output_type": "stream",
     "text": [
      "Clasificación featureset 4 con accuracy HTRU2: 0.984\n",
      "Clasificación featureset 4 con f-measure HTRU2: 0.984\n"
     ]
    }
   ],
   "source": [
    "rf_class_HTRU.fit(X_train4_HTRU, y_train4_HTRU)\n",
    "\n",
    "accuracy_RF4 = accuracy_score(y_test4_HTRU, rf_class_HTRU.predict(X_test4_HTRU))\n",
    "print('Clasificación featureset 4 con accuracy HTRU2: {:.3f}'.format(accuracy_RF4))\n",
    "\n",
    "f1_RF4 = f1_score(y_test4_HTRU, rf_class_HTRU.predict(X_test4_HTRU), average='weighted')\n",
    "print('Clasificación featureset 4 con f-measure HTRU2: {:.3f}'.format(f1_RF4))\n",
    "\n",
    "total_RF4 = ((0.6 * f1_RF4) + (0.4 * accuracy_RF4)) / 2"
   ]
  },
  {
   "cell_type": "code",
   "execution_count": 278,
   "metadata": {},
   "outputs": [
    {
     "name": "stdout",
     "output_type": "stream",
     "text": [
      "Clasificación featureset 5 con accuracy HTRU2: 0.986\n",
      "Clasificación featureset 5 con f-measure HTRU2: 0.985\n"
     ]
    }
   ],
   "source": [
    "rf_class_HTRU.fit(X_train5_HTRU, y_train5_HTRU)\n",
    "\n",
    "accuracy_RF5 = accuracy_score(y_test5_HTRU, rf_class_HTRU.predict(X_test5_HTRU))\n",
    "print('Clasificación featureset 5 con accuracy HTRU2: {:.3f}'.format(accuracy_RF5))\n",
    "\n",
    "f1_RF5 = f1_score(y_test5_HTRU, rf_class_HTRU.predict(X_test5_HTRU), average='weighted')\n",
    "print('Clasificación featureset 5 con f-measure HTRU2: {:.3f}'.format(f1_RF5))\n",
    "\n",
    "total_RF5 = ((0.6 * f1_RF5) + (0.4 * accuracy_RF5)) / 2"
   ]
  },
  {
   "cell_type": "code",
   "execution_count": 279,
   "metadata": {},
   "outputs": [
    {
     "name": "stdout",
     "output_type": "stream",
     "text": [
      "Clasificación featureset 6 con accuracy HTRU2: 0.985\n",
      "Clasificación featureset 6 con f-measure HTRU2: 0.984\n"
     ]
    }
   ],
   "source": [
    "rf_class_HTRU.fit(X_train6_HTRU, y_train6_HTRU)\n",
    "\n",
    "accuracy_RF6 = accuracy_score(y_test6_HTRU, rf_class_HTRU.predict(X_test6_HTRU))\n",
    "print('Clasificación featureset 6 con accuracy HTRU2: {:.3f}'.format(accuracy_RF6))\n",
    "\n",
    "f1_RF6 = f1_score(y_test6_HTRU, rf_class_HTRU.predict(X_test6_HTRU), average='weighted')\n",
    "print('Clasificación featureset 6 con f-measure HTRU2: {:.3f}'.format(f1_RF6))\n",
    "\n",
    "total_RF6 = ((0.6 * f1_RF6) + (0.4 * accuracy_RF6)) / 2"
   ]
  },
  {
   "cell_type": "code",
   "execution_count": 280,
   "metadata": {},
   "outputs": [
    {
     "name": "stdout",
     "output_type": "stream",
     "text": [
      "Clasificación featureset 7 con accuracy HTRU2: 0.979\n",
      "Clasificación featureset 7 con f-measure HTRU2: 0.978\n"
     ]
    }
   ],
   "source": [
    "rf_class_HTRU.fit(X_train7_HTRU, y_train7_HTRU)\n",
    "\n",
    "accuracy_RF7 = accuracy_score(y_test7_HTRU, rf_class_HTRU.predict(X_test7_HTRU))\n",
    "print('Clasificación featureset 7 con accuracy HTRU2: {:.3f}'.format(accuracy_RF7))\n",
    "\n",
    "f1_RF7 = f1_score(y_test7_HTRU, rf_class_HTRU.predict(X_test7_HTRU), average='weighted')\n",
    "print('Clasificación featureset 7 con f-measure HTRU2: {:.3f}'.format(f1_RF7))\n",
    "\n",
    "total_RF7 = ((0.6 * f1_RF7) + (0.4 * accuracy_RF7)) / 2"
   ]
  },
  {
   "cell_type": "code",
   "execution_count": 281,
   "metadata": {},
   "outputs": [
    {
     "name": "stdout",
     "output_type": "stream",
     "text": [
      "Clasificación featureset 8 con accuracy HTRU2: 0.978\n",
      "Clasificación featureset 8 con f-measure HTRU2: 0.978\n"
     ]
    }
   ],
   "source": [
    "rf_class_HTRU.fit(X_train8_HTRU, y_train8_HTRU)\n",
    "\n",
    "accuracy_RF8 = accuracy_score(y_test8_HTRU, rf_class_HTRU.predict(X_test8_HTRU))\n",
    "print('Clasificación featureset 8 con accuracy HTRU2: {:.3f}'.format(accuracy_RF8))\n",
    "\n",
    "f1_RF8 = f1_score(y_test8_HTRU, rf_class_HTRU.predict(X_test8_HTRU), average='weighted')\n",
    "print('Clasificación featureset 8 con f-measure HTRU2: {:.3f}'.format(f1_RF8))\n",
    "\n",
    "total_RF8 = ((0.6 * f1_RF8) + (0.4 * accuracy_RF8)) / 2"
   ]
  },
  {
   "cell_type": "markdown",
   "metadata": {},
   "source": [
    "#### 2. Clasificaión con LAMDA-HAD"
   ]
  },
  {
   "cell_type": "code",
   "execution_count": 264,
   "metadata": {},
   "outputs": [],
   "source": [
    "target_LAMDA_HAD = target_HTRU[8949:]"
   ]
  },
  {
   "cell_type": "code",
   "execution_count": 265,
   "metadata": {},
   "outputs": [],
   "source": [
    "y_pred1 = pd.read_csv(\"results1_HTRU2.csv\", header=None)"
   ]
  },
  {
   "cell_type": "code",
   "execution_count": 266,
   "metadata": {},
   "outputs": [
    {
     "name": "stdout",
     "output_type": "stream",
     "text": [
      "Clasificación featureset 1 con accuracy HTRU2: 0.983\n",
      "Clasificación featureset 1 con f-measure HTRU2: 0.982\n"
     ]
    }
   ],
   "source": [
    "accuracy_LAMDA1 = accuracy_score(target_LAMDA_HAD, y_pred1)\n",
    "print('Clasificación featureset 1 con accuracy HTRU2: {:.3f}'.format(accuracy_LAMDA1))\n",
    "\n",
    "f1_LAMDA1 = f1_score(target_LAMDA_HAD, y_pred1, average='weighted')\n",
    "print('Clasificación featureset 1 con f-measure HTRU2: {:.3f}'.format(f1_LAMDA1))\n",
    "\n",
    "total_LAMDA1 = ((0.6 * f1_LAMDA1) + (0.4 * accuracy_LAMDA1)) / 2"
   ]
  },
  {
   "cell_type": "code",
   "execution_count": 267,
   "metadata": {},
   "outputs": [],
   "source": [
    "y_pred2 = pd.read_csv(\"results2_HTRU2.csv\", header=None)"
   ]
  },
  {
   "cell_type": "code",
   "execution_count": 268,
   "metadata": {},
   "outputs": [
    {
     "name": "stdout",
     "output_type": "stream",
     "text": [
      "Clasificación featureset 2 con accuracy HTRU2: 0.981\n",
      "Clasificación featureset 2 con f-measure HTRU2: 0.980\n"
     ]
    }
   ],
   "source": [
    "accuracy_LAMDA2 = accuracy_score(target_LAMDA_HAD, y_pred2)\n",
    "print('Clasificación featureset 2 con accuracy HTRU2: {:.3f}'.format(accuracy_LAMDA2))\n",
    "\n",
    "f1_LAMDA2 = f1_score(target_LAMDA_HAD, y_pred2, average='weighted')\n",
    "print('Clasificación featureset 2 con f-measure HTRU2: {:.3f}'.format(f1_LAMDA2))\n",
    "\n",
    "total_LAMDA2 = ((0.6 * f1_LAMDA2) + (0.4 * accuracy_LAMDA2)) / 2"
   ]
  },
  {
   "cell_type": "code",
   "execution_count": 269,
   "metadata": {},
   "outputs": [],
   "source": [
    "y_pred3 = pd.read_csv(\"results3_HTRU2.csv\", header=None)"
   ]
  },
  {
   "cell_type": "code",
   "execution_count": 270,
   "metadata": {},
   "outputs": [
    {
     "name": "stdout",
     "output_type": "stream",
     "text": [
      "Clasificación featureset 3 con accuracy HTRU2: 0.983\n",
      "Clasificación featureset 3 con f-measure HTRU2: 0.982\n"
     ]
    }
   ],
   "source": [
    "accuracy_LAMDA3 = accuracy_score(target_LAMDA_HAD, y_pred3)\n",
    "print('Clasificación featureset 3 con accuracy HTRU2: {:.3f}'.format(accuracy_LAMDA3))\n",
    "\n",
    "f1_LAMDA3 = f1_score(target_LAMDA_HAD, y_pred3, average='weighted')\n",
    "print('Clasificación featureset 3 con f-measure HTRU2: {:.3f}'.format(f1_LAMDA3))\n",
    "\n",
    "total_LAMDA3 = ((0.6 * f1_LAMDA3) + (0.4 * accuracy_LAMDA3)) / 2"
   ]
  },
  {
   "cell_type": "code",
   "execution_count": 271,
   "metadata": {},
   "outputs": [],
   "source": [
    "y_pred4 = pd.read_csv(\"results4_HTRU2.csv\", header=None)"
   ]
  },
  {
   "cell_type": "code",
   "execution_count": 272,
   "metadata": {},
   "outputs": [
    {
     "name": "stdout",
     "output_type": "stream",
     "text": [
      "Clasificación featureset 4 con accuracy HTRU2: 0.947\n",
      "Clasificación featureset 4 con f-measure HTRU2: 0.921\n"
     ]
    },
    {
     "name": "stderr",
     "output_type": "stream",
     "text": [
      "/home/ricurdo/.local/lib/python3.5/site-packages/sklearn/metrics/classification.py:1135: UndefinedMetricWarning: F-score is ill-defined and being set to 0.0 in labels with no predicted samples.\n",
      "  'precision', 'predicted', average, warn_for)\n"
     ]
    }
   ],
   "source": [
    "accuracy_LAMDA4 = accuracy_score(target_LAMDA_HAD, y_pred4)\n",
    "print('Clasificación featureset 4 con accuracy HTRU2: {:.3f}'.format(accuracy_LAMDA4))\n",
    "\n",
    "f1_LAMDA4 = f1_score(target_LAMDA_HAD, y_pred4, average='weighted')\n",
    "print('Clasificación featureset 4 con f-measure HTRU2: {:.3f}'.format(f1_LAMDA4))\n",
    "\n",
    "total_LAMDA4 = ((0.6 * f1_LAMDA4) + (0.4 * accuracy_LAMDA4)) / 2"
   ]
  },
  {
   "cell_type": "code",
   "execution_count": 282,
   "metadata": {},
   "outputs": [],
   "source": [
    "y_pred5 = pd.read_csv(\"results5_HTRU2.csv\", header=None)"
   ]
  },
  {
   "cell_type": "code",
   "execution_count": 283,
   "metadata": {},
   "outputs": [
    {
     "name": "stdout",
     "output_type": "stream",
     "text": [
      "Clasificación featureset 5 con accuracy HTRU2: 0.983\n",
      "Clasificación featureset 5 con f-measure HTRU2: 0.983\n"
     ]
    }
   ],
   "source": [
    "accuracy_LAMDA5 = accuracy_score(target_LAMDA_HAD, y_pred5)\n",
    "print('Clasificación featureset 5 con accuracy HTRU2: {:.3f}'.format(accuracy_LAMDA5))\n",
    "\n",
    "f1_LAMDA5 = f1_score(target_LAMDA_HAD, y_pred5, average='weighted')\n",
    "print('Clasificación featureset 5 con f-measure HTRU2: {:.3f}'.format(f1_LAMDA5))\n",
    "\n",
    "total_LAMDA5 = ((0.6 * f1_LAMDA5) + (0.4 * accuracy_LAMDA5)) / 2"
   ]
  },
  {
   "cell_type": "code",
   "execution_count": 284,
   "metadata": {},
   "outputs": [],
   "source": [
    "y_pred6 = pd.read_csv(\"results6_HTRU2.csv\", header=None)"
   ]
  },
  {
   "cell_type": "code",
   "execution_count": 285,
   "metadata": {},
   "outputs": [
    {
     "name": "stdout",
     "output_type": "stream",
     "text": [
      "Clasificación featureset 6 con accuracy HTRU2: 0.981\n",
      "Clasificación featureset 6 con f-measure HTRU2: 0.981\n"
     ]
    }
   ],
   "source": [
    "accuracy_LAMDA6 = accuracy_score(target_LAMDA_HAD, y_pred6)\n",
    "print('Clasificación featureset 6 con accuracy HTRU2: {:.3f}'.format(accuracy_LAMDA6))\n",
    "\n",
    "f1_LAMDA6 = f1_score(target_LAMDA_HAD, y_pred6, average='weighted')\n",
    "print('Clasificación featureset 6 con f-measure HTRU2: {:.3f}'.format(f1_LAMDA6))\n",
    "\n",
    "total_LAMDA6 = ((0.6 * f1_LAMDA6) + (0.4 * accuracy_LAMDA6)) / 2"
   ]
  },
  {
   "cell_type": "code",
   "execution_count": 286,
   "metadata": {},
   "outputs": [],
   "source": [
    "y_pred7 = pd.read_csv(\"results7_HTRU2.csv\", header=None)"
   ]
  },
  {
   "cell_type": "code",
   "execution_count": 287,
   "metadata": {},
   "outputs": [
    {
     "name": "stdout",
     "output_type": "stream",
     "text": [
      "Clasificación featureset 7 con accuracy HTRU2: 0.979\n",
      "Clasificación featureset 7 con f-measure HTRU2: 0.978\n"
     ]
    }
   ],
   "source": [
    "accuracy_LAMDA7 = accuracy_score(target_LAMDA_HAD, y_pred7)\n",
    "print('Clasificación featureset 7 con accuracy HTRU2: {:.3f}'.format(accuracy_LAMDA7))\n",
    "\n",
    "f1_LAMDA7 = f1_score(target_LAMDA_HAD, y_pred7, average='weighted')\n",
    "print('Clasificación featureset 7 con f-measure HTRU2: {:.3f}'.format(f1_LAMDA7))\n",
    "\n",
    "total_LAMDA7 = ((0.6 * f1_LAMDA7) + (0.4 * accuracy_LAMDA7)) / 2"
   ]
  },
  {
   "cell_type": "code",
   "execution_count": 288,
   "metadata": {},
   "outputs": [],
   "source": [
    "y_pred8 = pd.read_csv(\"results8_HTRU2.csv\", header=None)"
   ]
  },
  {
   "cell_type": "code",
   "execution_count": 289,
   "metadata": {},
   "outputs": [
    {
     "name": "stdout",
     "output_type": "stream",
     "text": [
      "Clasificación featureset 8 con accuracy HTRU2: 0.874\n",
      "Clasificación featureset 8 con f-measure HTRU2: 0.902\n"
     ]
    }
   ],
   "source": [
    "accuracy_LAMDA8 = accuracy_score(target_LAMDA_HAD, y_pred8)\n",
    "print('Clasificación featureset 8 con accuracy HTRU2: {:.3f}'.format(accuracy_LAMDA8))\n",
    "\n",
    "f1_LAMDA8 = f1_score(target_LAMDA_HAD, y_pred8, average='weighted')\n",
    "print('Clasificación featureset 8 con f-measure HTRU2: {:.3f}'.format(f1_LAMDA8))\n",
    "\n",
    "total_LAMDA8 = ((0.6 * f1_LAMDA8) + (0.4 * accuracy_LAMDA8)) / 2"
   ]
  },
  {
   "cell_type": "markdown",
   "metadata": {},
   "source": [
    "## Selección"
   ]
  },
  {
   "cell_type": "code",
   "execution_count": 290,
   "metadata": {},
   "outputs": [
    {
     "name": "stdout",
     "output_type": "stream",
     "text": [
      "Seleccionado:  RF 5\n"
     ]
    }
   ],
   "source": [
    "classif = ['RF', 'LAMDA']\n",
    "class_sel = ''\n",
    "f_sel = 0\n",
    "clases = []\n",
    "val_sel = []\n",
    "mayor = 0\n",
    "\n",
    "\n",
    "clases.append(0 if total_RF1 > total_LAMDA1 else 1)\n",
    "val_sel.append(total_RF1 if total_RF1 > total_LAMDA1 else total_LAMDA1)\n",
    "\n",
    "clases.append(0 if total_RF2 > total_LAMDA2 else 1)\n",
    "val_sel.append(total_RF2 if total_RF2 > total_LAMDA2 else total_LAMDA2)\n",
    "\n",
    "clases.append(0 if total_RF3 > total_LAMDA3 else 1)\n",
    "val_sel.append(total_RF3 if total_RF3 > total_LAMDA3 else total_LAMDA3)\n",
    "\n",
    "clases.append(0 if total_RF4 > total_LAMDA4 else 1)\n",
    "val_sel.append(total_RF4 if total_RF4 > total_LAMDA4 else total_LAMDA4)\n",
    "\n",
    "clases.append(0 if total_RF5 > total_LAMDA5 else 1)\n",
    "val_sel.append(total_RF5 if total_RF5 > total_LAMDA5 else total_LAMDA5)\n",
    "\n",
    "clases.append(0 if total_RF6 > total_LAMDA6 else 1)\n",
    "val_sel.append(total_RF6 if total_RF6 > total_LAMDA6 else total_LAMDA6)\n",
    "\n",
    "clases.append(0 if total_RF7 > total_LAMDA7 else 1)\n",
    "val_sel.append(total_RF7 if total_RF7 > total_LAMDA7 else total_LAMDA7)\n",
    "\n",
    "clases.append(0 if total_RF8 > total_LAMDA8 else 1)\n",
    "val_sel.append(total_RF8 if total_RF8 > total_LAMDA8 else total_LAMDA8)\n",
    "\n",
    "for i in range(0,8):\n",
    "    if val_sel[i] > mayor:\n",
    "        mayor = val_sel[i]\n",
    "        class_sel = classif[clases[i]]\n",
    "        f_sel = i + 1\n",
    "        \n",
    "print('Seleccionado: ',class_sel, f_sel)"
   ]
  }
 ],
 "metadata": {
  "kernelspec": {
   "display_name": "Python 3",
   "language": "python",
   "name": "python3"
  },
  "language_info": {
   "codemirror_mode": {
    "name": "ipython",
    "version": 3
   },
   "file_extension": ".py",
   "mimetype": "text/x-python",
   "name": "python",
   "nbconvert_exporter": "python",
   "pygments_lexer": "ipython3",
   "version": "3.5.3"
  }
 },
 "nbformat": 4,
 "nbformat_minor": 2
}
