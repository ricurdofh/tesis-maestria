{
 "cells": [
  {
   "cell_type": "markdown",
   "metadata": {},
   "source": [
    "## Importar librerías e inicializar variables"
   ]
  },
  {
   "cell_type": "code",
   "execution_count": 1,
   "metadata": {},
   "outputs": [],
   "source": [
    "import numpy as np\n",
    "import pandas as pd\n",
    "import matplotlib.pyplot as plt\n",
    "from sklearn.model_selection import train_test_split\n",
    "from sklearn.feature_selection import SelectFromModel\n",
    "from sklearn.discriminant_analysis import LinearDiscriminantAnalysis\n",
    "%matplotlib inline"
   ]
  },
  {
   "cell_type": "code",
   "execution_count": 75,
   "metadata": {},
   "outputs": [],
   "source": [
    "############# Wine Quality Dataset #########\n",
    "data_WQ = pd.read_csv(\"../Datasets/winequality-white.csv\", delimiter = \";\", decimal = \".\")\n",
    "\n",
    "lda_model1_WQ = LinearDiscriminantAnalysis()\n",
    "lda_model2_WQ = LinearDiscriminantAnalysis(solver='eigen', shrinkage='auto')\n",
    "lda_model3_WQ = LinearDiscriminantAnalysis(solver='lsqr', shrinkage=0.5)\n",
    "lda_model4_WQ = LinearDiscriminantAnalysis(solver='eigen', shrinkage=0.1)\n"
   ]
  },
  {
   "cell_type": "markdown",
   "metadata": {},
   "source": [
    "## Pre-procesado de datos"
   ]
  },
  {
   "cell_type": "code",
   "execution_count": 3,
   "metadata": {},
   "outputs": [],
   "source": [
    "############# Wine Quality Dataset #########\n",
    "target_WQ = data_WQ['quality']\n",
    "train_WQ = data_WQ.drop('quality', axis=1)\n",
    "\n",
    "X_train_WQ, X_test_WQ, y_train_WQ, y_test_WQ = train_test_split(train_WQ, target_WQ, random_state=0, test_size=.2)"
   ]
  },
  {
   "cell_type": "markdown",
   "metadata": {},
   "source": [
    "## Feature Engineering"
   ]
  },
  {
   "cell_type": "markdown",
   "metadata": {},
   "source": [
    "#### 1. Selección de feature set con solver=eigen"
   ]
  },
  {
   "cell_type": "code",
   "execution_count": 44,
   "metadata": {},
   "outputs": [
    {
     "name": "stdout",
     "output_type": "stream",
     "text": [
      "Número de features original para WQ:  (3918, 11)\n",
      "Número de features seleccionados para WQ:  (3918, 7)\n"
     ]
    }
   ],
   "source": [
    "############# Wine Quality Dataset #########\n",
    "\n",
    "select_WQ = SelectFromModel(lda_model1_WQ, threshold=5.98)\n",
    "select_WQ.fit(X_train_WQ, y_train_WQ)\n",
    "X_train_s_WQ = select_WQ.transform(X_train_WQ)\n",
    "\n",
    "print('Número de features original para WQ: ', X_train_WQ.shape)\n",
    "print('Número de features seleccionados para WQ: ', X_train_s_WQ.shape)"
   ]
  },
  {
   "cell_type": "code",
   "execution_count": 45,
   "metadata": {},
   "outputs": [
    {
     "data": {
      "text/plain": [
       "Text(0.5,0,'Features WQ')"
      ]
     },
     "execution_count": 45,
     "metadata": {},
     "output_type": "execute_result"
    },
    {
     "data": {
      "image/png": "[encoded data removed]",
      "text/plain": [
       "<Figure size 1152x144 with 1 Axes>"
      ]
     },
     "metadata": {
      "needs_background": "light"
     },
     "output_type": "display_data"
    }
   ],
   "source": [
    "mask_WQ = select_WQ.get_support()\n",
    "plt.matshow(mask_WQ.reshape(1,-1), cmap='gray_r')\n",
    "plt.xlabel('Features WQ')"
   ]
  },
  {
   "cell_type": "code",
   "execution_count": 46,
   "metadata": {},
   "outputs": [
    {
     "data": {
      "text/plain": [
       "array([0, 1, 2, 4, 7, 8, 9])"
      ]
     },
     "execution_count": 46,
     "metadata": {},
     "output_type": "execute_result"
    }
   ],
   "source": [
    "#Features extraídos\n",
    "num = np.array(range(0,11))\n",
    "num[select_WQ.get_support()]"
   ]
  },
  {
   "cell_type": "markdown",
   "metadata": {},
   "source": [
    "#### 2. Selección de feature set con solver=svd"
   ]
  },
  {
   "cell_type": "code",
   "execution_count": 37,
   "metadata": {},
   "outputs": [
    {
     "name": "stdout",
     "output_type": "stream",
     "text": [
      "Número de features original para WQ:  (3918, 11)\n",
      "Número de features seleccionados para WQ:  (3918, 5)\n"
     ]
    }
   ],
   "source": [
    "############# Wine Quality Dataset #########\n",
    "\n",
    "select_WQ = SelectFromModel(lda_model2_WQ, threshold=1.98)\n",
    "select_WQ.fit(X_train_WQ, y_train_WQ)\n",
    "X_train_s_WQ = select_WQ.transform(X_train_WQ)\n",
    "\n",
    "print('Número de features original para WQ: ', X_train_WQ.shape)\n",
    "print('Número de features seleccionados para WQ: ', X_train_s_WQ.shape)"
   ]
  },
  {
   "cell_type": "code",
   "execution_count": 38,
   "metadata": {},
   "outputs": [
    {
     "data": {
      "text/plain": [
       "Text(0.5,0,'Features WQ')"
      ]
     },
     "execution_count": 38,
     "metadata": {},
     "output_type": "execute_result"
    },
    {
     "data": {
      "image/png": "[encoded data removed]",
      "text/plain": [
       "<Figure size 1152x144 with 1 Axes>"
      ]
     },
     "metadata": {
      "needs_background": "light"
     },
     "output_type": "display_data"
    }
   ],
   "source": [
    "mask_WQ = select_WQ.get_support()\n",
    "plt.matshow(mask_WQ.reshape(1,-1), cmap='gray_r')\n",
    "plt.xlabel('Features WQ')"
   ]
  },
  {
   "cell_type": "code",
   "execution_count": 39,
   "metadata": {},
   "outputs": [
    {
     "data": {
      "text/plain": [
       "array([1, 2, 4, 7, 8])"
      ]
     },
     "execution_count": 39,
     "metadata": {},
     "output_type": "execute_result"
    }
   ],
   "source": [
    "#Features extraídos\n",
    "num = np.array(range(0,11))\n",
    "num[select_WQ.get_support()]"
   ]
  },
  {
   "cell_type": "markdown",
   "metadata": {},
   "source": [
    "#### 3. Selección de feature set con solver=lsqr"
   ]
  },
  {
   "cell_type": "code",
   "execution_count": 59,
   "metadata": {},
   "outputs": [
    {
     "name": "stdout",
     "output_type": "stream",
     "text": [
      "Número de features original para WQ:  (3918, 11)\n",
      "Número de features seleccionados para WQ:  (3918, 5)\n"
     ]
    }
   ],
   "source": [
    "############# Wine Quality Dataset #########\n",
    "\n",
    "select_WQ = SelectFromModel(lda_model3_WQ, threshold=0.098)\n",
    "select_WQ.fit(X_train_WQ, y_train_WQ)\n",
    "X_train_s_WQ = select_WQ.transform(X_train_WQ)\n",
    "\n",
    "print('Número de features original para WQ: ', X_train_WQ.shape)\n",
    "print('Número de features seleccionados para WQ: ', X_train_s_WQ.shape)"
   ]
  },
  {
   "cell_type": "code",
   "execution_count": 60,
   "metadata": {},
   "outputs": [
    {
     "data": {
      "text/plain": [
       "Text(0.5,0,'Features WQ')"
      ]
     },
     "execution_count": 60,
     "metadata": {},
     "output_type": "execute_result"
    },
    {
     "data": {
      "image/png": "[encoded data removed]",
      "text/plain": [
       "<Figure size 1152x144 with 1 Axes>"
      ]
     },
     "metadata": {
      "needs_background": "light"
     },
     "output_type": "display_data"
    }
   ],
   "source": [
    "mask_WQ = select_WQ.get_support()\n",
    "plt.matshow(mask_WQ.reshape(1,-1), cmap='gray_r')\n",
    "plt.xlabel('Features WQ')"
   ]
  },
  {
   "cell_type": "code",
   "execution_count": 61,
   "metadata": {},
   "outputs": [
    {
     "data": {
      "text/plain": [
       "array([ 0,  5,  6,  8, 10])"
      ]
     },
     "execution_count": 61,
     "metadata": {},
     "output_type": "execute_result"
    }
   ],
   "source": [
    "#Features extraídos\n",
    "num = np.array(range(0,11))\n",
    "num[select_WQ.get_support()]"
   ]
  },
  {
   "cell_type": "markdown",
   "metadata": {},
   "source": [
    "#### 4 Selección de feature set con solver=eigen shrinkage=0.5"
   ]
  },
  {
   "cell_type": "code",
   "execution_count": 79,
   "metadata": {},
   "outputs": [
    {
     "name": "stdout",
     "output_type": "stream",
     "text": [
      "Número de features original para WQ:  (3918, 11)\n",
      "Número de features seleccionados para WQ:  (3918, 5)\n"
     ]
    }
   ],
   "source": [
    "############# Wine Quality Dataset #########\n",
    "\n",
    "select_WQ = SelectFromModel(lda_model4_WQ, threshold=18.98)\n",
    "select_WQ.fit(X_train_WQ, y_train_WQ)\n",
    "X_train_s_WQ = select_WQ.transform(X_train_WQ)\n",
    "\n",
    "print('Número de features original para WQ: ', X_train_WQ.shape)\n",
    "print('Número de features seleccionados para WQ: ', X_train_s_WQ.shape)"
   ]
  },
  {
   "cell_type": "code",
   "execution_count": 80,
   "metadata": {},
   "outputs": [
    {
     "data": {
      "text/plain": [
       "Text(0.5,0,'Features WQ')"
      ]
     },
     "execution_count": 80,
     "metadata": {},
     "output_type": "execute_result"
    },
    {
     "data": {
      "image/png": "[encoded data removed]",
      "text/plain": [
       "<Figure size 1152x144 with 1 Axes>"
      ]
     },
     "metadata": {
      "needs_background": "light"
     },
     "output_type": "display_data"
    }
   ],
   "source": [
    "mask_WQ = select_WQ.get_support()\n",
    "plt.matshow(mask_WQ.reshape(1,-1), cmap='gray_r')\n",
    "plt.xlabel('Features WQ')"
   ]
  },
  {
   "cell_type": "code",
   "execution_count": 81,
   "metadata": {},
   "outputs": [
    {
     "data": {
      "text/plain": [
       "array([ 0,  3,  6,  8, 10])"
      ]
     },
     "execution_count": 81,
     "metadata": {},
     "output_type": "execute_result"
    }
   ],
   "source": [
    "#Features extraídos\n",
    "num = np.array(range(0,11))\n",
    "num[select_WQ.get_support()]"
   ]
  }
 ],
 "metadata": {
  "kernelspec": {
   "display_name": "Python 3",
   "language": "python",
   "name": "python3"
  },
  "language_info": {
   "codemirror_mode": {
    "name": "ipython",
    "version": 3
   },
   "file_extension": ".py",
   "mimetype": "text/x-python",
   "name": "python",
   "nbconvert_exporter": "python",
   "pygments_lexer": "ipython3",
   "version": "3.5.3"
  }
 },
 "nbformat": 4,
 "nbformat_minor": 2
}
