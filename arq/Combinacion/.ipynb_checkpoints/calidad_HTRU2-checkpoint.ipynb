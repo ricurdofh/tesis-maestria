{
 "cells": [
  {
   "cell_type": "markdown",
   "metadata": {},
   "source": [
    "## Importar librerías e inicializar variables"
   ]
  },
  {
   "cell_type": "code",
   "execution_count": 1,
   "metadata": {},
   "outputs": [],
   "source": [
    "from sklearn.feature_selection import SelectFromModel\n",
    "from sklearn.model_selection import train_test_split\n",
    "from sklearn.ensemble import RandomForestClassifier\n",
    "from sklearn.metrics import accuracy_score\n",
    "from sklearn.metrics import f1_score\n",
    "import numpy as np\n",
    "import pandas as pd\n",
    "import matplotlib.pyplot as plt\n",
    "%matplotlib inline"
   ]
  },
  {
   "cell_type": "code",
   "execution_count": null,
   "metadata": {},
   "outputs": [],
   "source": [
    "############# HTRU_2 Dataset #########\n",
    "names_HTRU = [\n",
    "\t'Mean_i_p',\n",
    "\t'Standard_deviation_i_p',\n",
    "\t'Excess_kurtosis_i_p',\n",
    "\t'Skewness_i_p',\n",
    "\t'Mean_DM-SNR_curve',\n",
    "\t'Standard_deviation_DM-SNR_curve',\n",
    "\t'Excess_kurtosis_DM-SNR_curve',\n",
    "\t'Skewness_DM-SNR_curve', \n",
    "\t'Class'\n",
    "]\n",
    "\n",
    "data_HTRU = pd.read_csv(\"HTRU_2.csv\", delimiter = \",\", decimal = \".\", names=names_HTRU)"
   ]
  },
  {
   "cell_type": "markdown",
   "metadata": {},
   "source": [
    "## Pre-procesado de datos"
   ]
  },
  {
   "cell_type": "code",
   "execution_count": 2,
   "metadata": {},
   "outputs": [],
   "source": [
    "############# HTRU_2 Dataset #########\n",
    "target_HTRU = data_HTRU['Class']\n",
    "train_HTRU = data_HTRU.drop('Class', axis=1)\n",
    "\n",
    "X_train_HTRU, X_test_HTRU, y_train_HTRU, y_test_HTRU = train_test_split(train_HTRU, target_HTRU, random_state=0, test_size=.2)\n"
   ]
  },
  {
   "cell_type": "markdown",
   "metadata": {},
   "source": [
    "## Clasificación"
   ]
  },
  {
   "cell_type": "code",
   "execution_count": 1,
   "metadata": {},
   "outputs": [],
   "source": [
    "#### 1. Clasificación con Random Forest"
   ]
  },
  {
   "cell_type": "code",
   "execution_count": 12,
   "metadata": {},
   "outputs": [
    {
     "name": "stdout",
     "output_type": "stream",
     "text": [
      "Clasificación con todas las features para HTRU: 0.984\n",
      "Clasificación con las features seleccionadas para HTRU: 0.985\n",
      "Clasificación con accuracy: 0.985\n",
      "Clasificación con f-measure: 0.991\n"
     ]
    }
   ],
   "source": [
    "############# HTRU_2 Dataset #########\n",
    "\n",
    "X_test_s_HTRU = select_HTRU.transform(X_test_HTRU)\n",
    "\n",
    "rf_class_HTRU = RandomForestClassifier(n_estimators=100, random_state=42, max_depth=9)\n",
    "rf_class_HTRU.fit(X_train_HTRU, y_train_HTRU)\n",
    "print('Clasificación con todas las features para HTRU: {:.3f}'.format(rf_class_HTRU.score(X_test_HTRU, y_test_HTRU)))\n",
    "\n",
    "rf_class_HTRU.fit(X_train_s_HTRU, y_train_HTRU)\n",
    "print('Clasificación con las features seleccionadas para HTRU: {:.3f}'.format(rf_class_HTRU.score(X_test_s_HTRU, y_test_HTRU)))\n",
    "print('Clasificación con accuracy: {:.3f}'.format(accuracy_score(y_test_HTRU, rf_class_HTRU.predict(X_test_s_HTRU))))\n",
    "print('Clasificación con f-measure: {:.3f}'.format(f1_score(y_test_HTRU, rf_class_HTRU.predict(X_test_s_HTRU), y_test_HTRU, average='weighted')))"
   ]
  }
 ],
 "metadata": {
  "kernelspec": {
   "display_name": "Python 3",
   "language": "python",
   "name": "python3"
  },
  "language_info": {
   "codemirror_mode": {
    "name": "ipython",
    "version": 3
   },
   "file_extension": ".py",
   "mimetype": "text/x-python",
   "name": "python",
   "nbconvert_exporter": "python",
   "pygments_lexer": "ipython3",
   "version": "3.5.3"
  }
 },
 "nbformat": 4,
 "nbformat_minor": 2
}
