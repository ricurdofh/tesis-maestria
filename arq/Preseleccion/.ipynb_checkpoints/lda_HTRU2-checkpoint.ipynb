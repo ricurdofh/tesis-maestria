{
 "cells": [
  {
   "cell_type": "markdown",
   "metadata": {},
   "source": [
    "## Importar librerías e inicializar variables"
   ]
  },
  {
   "cell_type": "code",
   "execution_count": 1,
   "metadata": {},
   "outputs": [],
   "source": [
    "import numpy as np\n",
    "import pandas as pd\n",
    "import matplotlib.pyplot as plt\n",
    "from sklearn.model_selection import train_test_split\n",
    "from sklearn.feature_selection import SelectFromModel\n",
    "from sklearn.discriminant_analysis import LinearDiscriminantAnalysis\n",
    "%matplotlib inline\n",
    "\n",
    "############# HTRU_2 Dataset #########\n",
    "names_HTRU = [\n",
    "\t'Mean_i_p',\n",
    "\t'Standard_deviation_i_p',\n",
    "\t'Excess_kurtosis_i_p',\n",
    "\t'Skewness_i_p',\n",
    "\t'Mean_DM-SNR_curve',\n",
    "\t'Standard_deviation_DM-SNR_curve',\n",
    "\t'Excess_kurtosis_DM-SNR_curve',\n",
    "\t'Skewness_DM-SNR_curve', \n",
    "\t'Class'\n",
    "]\n",
    "\n",
    "data_HTRU = pd.read_csv(\"../Datasets/HTRU_2.csv\", delimiter = \",\", decimal = \".\", names=names_HTRU)\n",
    "\n",
    "lda_model_HTRU = LinearDiscriminantAnalysis(solver='eigen', shrinkage='auto')\n"
   ]
  },
  {
   "cell_type": "markdown",
   "metadata": {},
   "source": [
    "## Pre-procesado de datos"
   ]
  },
  {
   "cell_type": "code",
   "execution_count": 2,
   "metadata": {},
   "outputs": [],
   "source": [
    "############# HTRU_2 Dataset #########\n",
    "target_HTRU = data_HTRU['Class']\n",
    "train_HTRU = data_HTRU.drop('Class', axis=1)\n",
    "\n",
    "X_train_HTRU, X_test_HTRU, y_train_HTRU, y_test_HTRU = train_test_split(train_HTRU, target_HTRU, random_state=0, test_size=.5)"
   ]
  },
  {
   "cell_type": "markdown",
   "metadata": {},
   "source": [
    "## Feature Engineering"
   ]
  },
  {
   "cell_type": "code",
   "execution_count": 3,
   "metadata": {},
   "outputs": [
    {
     "name": "stdout",
     "output_type": "stream",
     "text": [
      "Número de features original para HTRU:  (8949, 8)\n",
      "Número de features seleccionados para HTRU:  (8949, 4)\n"
     ]
    }
   ],
   "source": [
    "############# HTRU_2 Dataset #########\n",
    "\n",
    "select_HTRU = SelectFromModel(lda_model_HTRU, threshold=0.03)\n",
    "select_HTRU.fit(X_train_HTRU, y_train_HTRU)\n",
    "X_train_s_HTRU = select_HTRU.transform(X_train_HTRU)\n",
    "\n",
    "print('Número de features original para HTRU: ', X_train_HTRU.shape)\n",
    "print('Número de features seleccionados para HTRU: ', X_train_s_HTRU.shape)"
   ]
  },
  {
   "cell_type": "code",
   "execution_count": 4,
   "metadata": {},
   "outputs": [
    {
     "data": {
      "text/plain": [
       "Text(0.5,0,'Features HTRU')"
      ]
     },
     "execution_count": 4,
     "metadata": {},
     "output_type": "execute_result"
    },
    {
     "data": {
      "image/png": "[encoded data removed]",
      "text/plain": [
       "<Figure size 1152x144 with 1 Axes>"
      ]
     },
     "metadata": {
      "needs_background": "light"
     },
     "output_type": "display_data"
    }
   ],
   "source": [
    "mask_HTRU = select_HTRU.get_support()\n",
    "plt.matshow(mask_HTRU.reshape(1,-1), cmap='gray_r')\n",
    "plt.xlabel('Features HTRU')"
   ]
  },
  {
   "cell_type": "code",
   "execution_count": 5,
   "metadata": {},
   "outputs": [],
   "source": [
    "#f_lda_HTRU = pd.DataFrame(np.asarray(train_HTRU)[:,select_HTRU.get_support()])\n",
    "#f_lda_HTRU.to_csv('features_lda_HTRU.csv', header=None, index=None)"
   ]
  },
  {
   "cell_type": "code",
   "execution_count": 6,
   "metadata": {},
   "outputs": [
    {
     "data": {
      "text/plain": [
       "array([2, 3, 5, 6])"
      ]
     },
     "execution_count": 6,
     "metadata": {},
     "output_type": "execute_result"
    }
   ],
   "source": [
    "#Features extraídos\n",
    "num = np.array(range(0,8))\n",
    "num[select_HTRU.get_support()]"
   ]
  }
 ],
 "metadata": {
  "kernelspec": {
   "display_name": "Python 3",
   "language": "python",
   "name": "python3"
  },
  "language_info": {
   "codemirror_mode": {
    "name": "ipython",
    "version": 3
   },
   "file_extension": ".py",
   "mimetype": "text/x-python",
   "name": "python",
   "nbconvert_exporter": "python",
   "pygments_lexer": "ipython3",
   "version": "3.5.3"
  }
 },
 "nbformat": 4,
 "nbformat_minor": 2
}
