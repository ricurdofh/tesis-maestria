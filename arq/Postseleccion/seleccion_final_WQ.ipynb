{
 "cells": [
  {
   "cell_type": "markdown",
   "metadata": {},
   "source": [
    "## Importar librerías e inicializar variables"
   ]
  },
  {
   "cell_type": "code",
   "execution_count": 1,
   "metadata": {},
   "outputs": [],
   "source": [
    "from sklearn.feature_selection import SelectFromModel\n",
    "from sklearn.model_selection import train_test_split\n",
    "from sklearn.ensemble import RandomForestClassifier\n",
    "from sklearn.metrics import accuracy_score\n",
    "from sklearn.metrics import f1_score\n",
    "import numpy as np\n",
    "import pandas as pd\n",
    "import matplotlib.pyplot as plt\n",
    "%matplotlib inline"
   ]
  },
  {
   "cell_type": "code",
   "execution_count": 2,
   "metadata": {},
   "outputs": [],
   "source": [
    "############# Wine Quality Dataset #########\n",
    "data_WQ = pd.read_csv(\"../Datasets/winequality-white.csv\", delimiter = \";\", decimal = \".\")"
   ]
  },
  {
   "cell_type": "markdown",
   "metadata": {},
   "source": [
    "## Pre-procesado de datos"
   ]
  },
  {
   "cell_type": "code",
   "execution_count": 3,
   "metadata": {},
   "outputs": [],
   "source": [
    "############# Wine Quality Dataset #########\n",
    "target_WQ = data_WQ['quality']\n",
    "train_WQ = data_WQ.drop('quality', axis=1)\n",
    "\n",
    "# 1. [0, 1, 2, 4, 7, 8, 9]\n",
    "train1_WQ = train_WQ[[train_WQ.columns[0], train_WQ.columns[1], train_WQ.columns[2], train_WQ.columns[4], train_WQ.columns[7], train_WQ.columns[8], train_WQ.columns[9]]]\n",
    "X_train1_WQ, X_test1_WQ, y_train1_WQ, y_test1_WQ = train_test_split(train1_WQ, target_WQ, random_state=0, test_size=.2)\n",
    "\n",
    "# 2. [1,  5,  7, 10]\n",
    "train2_WQ = train_WQ[[train_WQ.columns[1], train_WQ.columns[5], train_WQ.columns[7], train_WQ.columns[10]]]\n",
    "X_train2_WQ, X_test2_WQ, y_train2_WQ, y_test2_WQ = train_test_split(train2_WQ, target_WQ, random_state=0, test_size=.2)\n",
    "\n",
    "# 3. [0, 1, 2, 3, 4, 5, 6, 7, 8, 9, 10]\n",
    "train3_WQ = train_WQ[[train_WQ.columns[0], train_WQ.columns[1], train_WQ.columns[2], train_WQ.columns[3], train_WQ.columns[4], train_WQ.columns[5], train_WQ.columns[6], train_WQ.columns[7], train_WQ.columns[8], train_WQ.columns[9], train_WQ.columns[10]]]\n",
    "X_train3_WQ, X_test3_WQ, y_train3_WQ, y_test3_WQ = train_test_split(train3_WQ, target_WQ, random_state=0, test_size=.2)\n",
    "\n",
    "# 4. [1, 4, 5, 6, 7, 8, 10]\n",
    "train4_WQ = train_WQ[[train_WQ.columns[1], train_WQ.columns[4], train_WQ.columns[5], train_WQ.columns[6], train_WQ.columns[7], train_WQ.columns[8], train_WQ.columns[10]]]\n",
    "X_train4_WQ, X_test4_WQ, y_train4_WQ, y_test4_WQ = train_test_split(train4_WQ, target_WQ, random_state=0, test_size=.2)\n",
    "\n",
    "# 5. [0, 1, 2, 4, 7, 8, 9]\n",
    "#train5_WQ = train_WQ[[train_WQ.columns[0], train_WQ.columns[1], train_WQ.columns[2], train_WQ.columns[4], train_WQ.columns[7], train_WQ.columns[8], train_WQ.columns[9]]]\n",
    "#X_train5_WQ, X_test5_WQ, y_train5_WQ, y_test5_WQ = train_test_split(train5_WQ, target_WQ, random_state=0, test_size=.2)\n"
   ]
  },
  {
   "cell_type": "markdown",
   "metadata": {},
   "source": [
    "## Clasificación"
   ]
  },
  {
   "cell_type": "markdown",
   "metadata": {},
   "source": [
    "#### 1. Clasificación con Random Forest"
   ]
  },
  {
   "cell_type": "code",
   "execution_count": 101,
   "metadata": {},
   "outputs": [],
   "source": [
    "rf_class_WQ = RandomForestClassifier(n_estimators=10, random_state=4, max_depth=50)"
   ]
  },
  {
   "cell_type": "code",
   "execution_count": 102,
   "metadata": {
    "scrolled": true
   },
   "outputs": [
    {
     "name": "stdout",
     "output_type": "stream",
     "text": [
      "Clasificación featureset 1 con accuracy WQ: 0.622\n",
      "Clasificación featureset 1 con f-measure WQ: 0.622\n"
     ]
    }
   ],
   "source": [
    "rf_class_WQ.fit(X_train1_WQ, y_train1_WQ)\n",
    "\n",
    "accuracy_RF1 = accuracy_score(y_test1_WQ, rf_class_WQ.predict(X_test1_WQ))\n",
    "print('Clasificación featureset 1 con accuracy WQ: {:.3f}'.format(accuracy_RF1))\n",
    "\n",
    "f1_RF1 = f1_score(y_test1_WQ, rf_class_WQ.predict(X_test1_WQ), average='micro')\n",
    "print('Clasificación featureset 1 con f-measure WQ: {:.3f}'.format(f1_RF1))\n",
    "\n",
    "total_RF1 = ((0.6 * f1_RF1) + (0.4 * accuracy_RF1)) / 2"
   ]
  },
  {
   "cell_type": "code",
   "execution_count": 103,
   "metadata": {},
   "outputs": [
    {
     "name": "stdout",
     "output_type": "stream",
     "text": [
      "Clasificación featureset 2 con accuracy WQ: 0.610\n",
      "Clasificación featureset 2 con f-measure WQ: 0.610\n"
     ]
    }
   ],
   "source": [
    "rf_class_WQ.fit(X_train2_WQ, y_train2_WQ)\n",
    "\n",
    "accuracy_RF2 = accuracy_score(y_test2_WQ, rf_class_WQ.predict(X_test2_WQ))\n",
    "print('Clasificación featureset 2 con accuracy WQ: {:.3f}'.format(accuracy_RF2))\n",
    "\n",
    "f1_RF2 = f1_score(y_test2_WQ, rf_class_WQ.predict(X_test2_WQ), average='micro')\n",
    "print('Clasificación featureset 2 con f-measure WQ: {:.3f}'.format(f1_RF2))\n",
    "\n",
    "total_RF2 = ((0.6 * f1_RF2) + (0.4 * accuracy_RF2)) / 2"
   ]
  },
  {
   "cell_type": "code",
   "execution_count": 104,
   "metadata": {},
   "outputs": [
    {
     "name": "stdout",
     "output_type": "stream",
     "text": [
      "Clasificación featureset 3 con accuracy WQ: 0.626\n",
      "Clasificación featureset 3 con f-measure WQ: 0.626\n"
     ]
    }
   ],
   "source": [
    "rf_class_WQ.fit(X_train3_WQ, y_train3_WQ)\n",
    "\n",
    "accuracy_RF3 = accuracy_score(y_test3_WQ, rf_class_WQ.predict(X_test3_WQ))\n",
    "print('Clasificación featureset 3 con accuracy WQ: {:.3f}'.format(accuracy_RF3))\n",
    "\n",
    "f1_RF3 = f1_score(y_test3_WQ, rf_class_WQ.predict(X_test3_WQ), average='micro')\n",
    "print('Clasificación featureset 3 con f-measure WQ: {:.3f}'.format(f1_RF3))\n",
    "\n",
    "total_RF3 = ((0.6 * f1_RF3) + (0.4 * accuracy_RF3)) / 2"
   ]
  },
  {
   "cell_type": "code",
   "execution_count": 105,
   "metadata": {},
   "outputs": [
    {
     "name": "stdout",
     "output_type": "stream",
     "text": [
      "Clasificación featureset 4 con accuracy WQ: 0.632\n",
      "Clasificación featureset 4 con f-measure WQ: 0.632\n"
     ]
    }
   ],
   "source": [
    "rf_class_WQ.fit(X_train4_WQ, y_train4_WQ)\n",
    "\n",
    "accuracy_RF4 = accuracy_score(y_test4_WQ, rf_class_WQ.predict(X_test4_WQ))\n",
    "print('Clasificación featureset 4 con accuracy WQ: {:.3f}'.format(accuracy_RF4))\n",
    "\n",
    "f1_RF4 = f1_score(y_test4_WQ, rf_class_WQ.predict(X_test4_WQ), average='micro')\n",
    "print('Clasificación featureset 4 con f-measure WQ: {:.3f}'.format(f1_RF4))\n",
    "\n",
    "total_RF4 = ((0.6 * f1_RF4) + (0.4 * accuracy_RF4)) / 2"
   ]
  },
  {
   "cell_type": "code",
   "execution_count": 113,
   "metadata": {},
   "outputs": [
    {
     "name": "stdout",
     "output_type": "stream",
     "text": [
      "Clasificación featureset 5 con accuracy WQ: 0.653\n",
      "Clasificación featureset 5 con f-measure WQ: 0.653\n"
     ]
    }
   ],
   "source": [
    "#rf_class_WQ.fit(X_train5_WQ, y_train5_WQ)\n",
    "\n",
    "#accuracy_RF5 = accuracy_score(y_test5_WQ, rf_class_WQ.predict(X_test5_WQ))\n",
    "#print('Clasificación featureset 5 con accuracy WQ: {:.3f}'.format(accuracy_RF5))\n",
    "\n",
    "#f1_RF5 = f1_score(y_test5_WQ, rf_class_WQ.predict(X_test5_WQ), average='micro')\n",
    "#print('Clasificación featureset 5 con f-measure WQ: {:.3f}'.format(f1_RF5))\n",
    "\n",
    "#total_RF5 = ((0.6 * f1_RF5) + (0.4 * accuracy_RF5)) / 2"
   ]
  },
  {
   "cell_type": "markdown",
   "metadata": {},
   "source": [
    "#### 2. Clasificaión con LAMDA-HAD"
   ]
  },
  {
   "cell_type": "code",
   "execution_count": 106,
   "metadata": {},
   "outputs": [],
   "source": [
    "target_LAMDA_HAD = target_WQ[2449:]"
   ]
  },
  {
   "cell_type": "code",
   "execution_count": 107,
   "metadata": {},
   "outputs": [],
   "source": [
    "y_pred1 = pd.read_csv(\"results1_WQ.csv\", header=None)"
   ]
  },
  {
   "cell_type": "code",
   "execution_count": 108,
   "metadata": {},
   "outputs": [
    {
     "name": "stdout",
     "output_type": "stream",
     "text": [
      "Clasificación featureset 1 con accuracy WQ: 0.185\n",
      "Clasificación featureset 1 con f-measure WQ: 0.243\n"
     ]
    },
    {
     "name": "stderr",
     "output_type": "stream",
     "text": [
      "/home/ricurdo/.local/lib/python3.5/site-packages/sklearn/metrics/classification.py:1137: UndefinedMetricWarning: F-score is ill-defined and being set to 0.0 in labels with no true samples.\n",
      "  'recall', 'true', average, warn_for)\n"
     ]
    }
   ],
   "source": [
    "accuracy_LAMDA1 = accuracy_score(target_LAMDA_HAD, y_pred1)\n",
    "print('Clasificación featureset 1 con accuracy WQ: {:.3f}'.format(accuracy_LAMDA1))\n",
    "\n",
    "f1_LAMDA1 = f1_score(target_LAMDA_HAD, y_pred1, average='weighted')\n",
    "print('Clasificación featureset 1 con f-measure WQ: {:.3f}'.format(f1_LAMDA1))\n",
    "\n",
    "total_LAMDA1 = ((0.6 * f1_LAMDA1) + (0.4 * accuracy_LAMDA1)) / 2"
   ]
  },
  {
   "cell_type": "code",
   "execution_count": 109,
   "metadata": {},
   "outputs": [],
   "source": [
    "y_pred2 = pd.read_csv(\"results2_WQ.csv\", header=None)"
   ]
  },
  {
   "cell_type": "code",
   "execution_count": 110,
   "metadata": {},
   "outputs": [
    {
     "name": "stdout",
     "output_type": "stream",
     "text": [
      "Clasificación featureset 2 con accuracy WQ: 0.000\n",
      "Clasificación featureset 2 con f-measure WQ: 0.000\n"
     ]
    },
    {
     "name": "stderr",
     "output_type": "stream",
     "text": [
      "/home/ricurdo/.local/lib/python3.5/site-packages/sklearn/metrics/classification.py:1135: UndefinedMetricWarning: F-score is ill-defined and being set to 0.0 in labels with no predicted samples.\n",
      "  'precision', 'predicted', average, warn_for)\n",
      "/home/ricurdo/.local/lib/python3.5/site-packages/sklearn/metrics/classification.py:1137: UndefinedMetricWarning: F-score is ill-defined and being set to 0.0 in labels with no true samples.\n",
      "  'recall', 'true', average, warn_for)\n"
     ]
    }
   ],
   "source": [
    "accuracy_LAMDA2 = accuracy_score(target_LAMDA_HAD, y_pred2)\n",
    "print('Clasificación featureset 2 con accuracy WQ: {:.3f}'.format(accuracy_LAMDA2))\n",
    "\n",
    "f1_LAMDA2 = f1_score(target_LAMDA_HAD, y_pred2, average='weighted')\n",
    "print('Clasificación featureset 2 con f-measure WQ: {:.3f}'.format(f1_LAMDA2))\n",
    "\n",
    "total_LAMDA2 = ((0.6 * f1_LAMDA2) + (0.4 * accuracy_LAMDA2)) / 2"
   ]
  },
  {
   "cell_type": "code",
   "execution_count": 111,
   "metadata": {},
   "outputs": [],
   "source": [
    "y_pred3 = pd.read_csv(\"results3_WQ.csv\", header=None)"
   ]
  },
  {
   "cell_type": "code",
   "execution_count": 112,
   "metadata": {},
   "outputs": [
    {
     "name": "stdout",
     "output_type": "stream",
     "text": [
      "Clasificación featureset 3 con accuracy WQ: 0.196\n",
      "Clasificación featureset 3 con f-measure WQ: 0.262\n"
     ]
    },
    {
     "name": "stderr",
     "output_type": "stream",
     "text": [
      "/home/ricurdo/.local/lib/python3.5/site-packages/sklearn/metrics/classification.py:1137: UndefinedMetricWarning: F-score is ill-defined and being set to 0.0 in labels with no true samples.\n",
      "  'recall', 'true', average, warn_for)\n"
     ]
    }
   ],
   "source": [
    "accuracy_LAMDA3 = accuracy_score(target_LAMDA_HAD, y_pred3)\n",
    "print('Clasificación featureset 3 con accuracy WQ: {:.3f}'.format(accuracy_LAMDA3))\n",
    "\n",
    "f1_LAMDA3 = f1_score(target_LAMDA_HAD, y_pred3, average='weighted')\n",
    "print('Clasificación featureset 3 con f-measure WQ: {:.3f}'.format(f1_LAMDA3))\n",
    "\n",
    "total_LAMDA3 = ((0.6 * f1_LAMDA3) + (0.4 * accuracy_LAMDA3)) / 2"
   ]
  },
  {
   "cell_type": "code",
   "execution_count": 113,
   "metadata": {},
   "outputs": [],
   "source": [
    "y_pred4 = pd.read_csv(\"results4_WQ.csv\", header=None)"
   ]
  },
  {
   "cell_type": "code",
   "execution_count": 114,
   "metadata": {},
   "outputs": [
    {
     "name": "stdout",
     "output_type": "stream",
     "text": [
      "Clasificación featureset 4 con accuracy HTRU2: 0.000\n",
      "Clasificación featureset 4 con f-measure HTRU2: 0.000\n"
     ]
    },
    {
     "name": "stderr",
     "output_type": "stream",
     "text": [
      "/home/ricurdo/.local/lib/python3.5/site-packages/sklearn/metrics/classification.py:1135: UndefinedMetricWarning: F-score is ill-defined and being set to 0.0 in labels with no predicted samples.\n",
      "  'precision', 'predicted', average, warn_for)\n",
      "/home/ricurdo/.local/lib/python3.5/site-packages/sklearn/metrics/classification.py:1137: UndefinedMetricWarning: F-score is ill-defined and being set to 0.0 in labels with no true samples.\n",
      "  'recall', 'true', average, warn_for)\n"
     ]
    }
   ],
   "source": [
    "accuracy_LAMDA4 = accuracy_score(target_LAMDA_HAD, y_pred4)\n",
    "print('Clasificación featureset 4 con accuracy HTRU2: {:.3f}'.format(accuracy_LAMDA4))\n",
    "\n",
    "f1_LAMDA4 = f1_score(target_LAMDA_HAD, y_pred4, average='weighted')\n",
    "print('Clasificación featureset 4 con f-measure HTRU2: {:.3f}'.format(f1_LAMDA4))\n",
    "\n",
    "total_LAMDA4 = ((0.6 * f1_LAMDA4) + (0.4 * accuracy_LAMDA4)) / 2"
   ]
  },
  {
   "cell_type": "code",
   "execution_count": 137,
   "metadata": {},
   "outputs": [],
   "source": [
    "#y_pred5 = pd.read_csv(\"results5_WQ.csv\", header=None)"
   ]
  },
  {
   "cell_type": "code",
   "execution_count": 138,
   "metadata": {},
   "outputs": [
    {
     "name": "stdout",
     "output_type": "stream",
     "text": [
      "Clasificación featureset 5 con accuracy WQ: 0.185\n",
      "Clasificación featureset 5 con f-measure WQ: 0.243\n"
     ]
    },
    {
     "name": "stderr",
     "output_type": "stream",
     "text": [
      "/home/ricurdo/.local/lib/python3.5/site-packages/sklearn/metrics/classification.py:1137: UndefinedMetricWarning: F-score is ill-defined and being set to 0.0 in labels with no true samples.\n",
      "  'recall', 'true', average, warn_for)\n"
     ]
    }
   ],
   "source": [
    "#accuracy_LAMDA5 = accuracy_score(target_LAMDA_HAD, y_pred5)\n",
    "#print('Clasificación featureset 5 con accuracy WQ: {:.3f}'.format(accuracy_LAMDA5))\n",
    "\n",
    "#f1_LAMDA5 = f1_score(target_LAMDA_HAD, y_pred5, average='weighted')\n",
    "#print('Clasificación featureset 5 con f-measure WQ: {:.3f}'.format(f1_LAMDA5))\n",
    "\n",
    "#total_LAMDA5 = ((0.6 * f1_LAMDA5) + (0.4 * accuracy_LAMDA5)) / 2"
   ]
  },
  {
   "cell_type": "markdown",
   "metadata": {},
   "source": [
    "## Selección"
   ]
  },
  {
   "cell_type": "code",
   "execution_count": 115,
   "metadata": {},
   "outputs": [
    {
     "name": "stdout",
     "output_type": "stream",
     "text": [
      "Seleccionado:  RF 4\n"
     ]
    }
   ],
   "source": [
    "classif = ['RF', 'LAMDA']\n",
    "class_sel = ''\n",
    "f_sel = 0\n",
    "clases = []\n",
    "val_sel = []\n",
    "mayor = 0\n",
    "\n",
    "\n",
    "clases.append(0 if total_RF1 > total_LAMDA1 else 1)\n",
    "val_sel.append(total_RF1 if total_RF1 > total_LAMDA1 else total_LAMDA1)\n",
    "\n",
    "clases.append(0 if total_RF2 > total_LAMDA2 else 1)\n",
    "val_sel.append(total_RF2 if total_RF2 > total_LAMDA2 else total_LAMDA2)\n",
    "\n",
    "clases.append(0 if total_RF3 > total_LAMDA3 else 1)\n",
    "val_sel.append(total_RF3 if total_RF3 > total_LAMDA3 else total_LAMDA3)\n",
    "\n",
    "clases.append(0 if total_RF4 > total_LAMDA4 else 1)\n",
    "val_sel.append(total_RF4 if total_RF4 > total_LAMDA4 else total_LAMDA4)\n",
    "\n",
    "#clases.append(0 if total_RF5 > total_LAMDA5 else 1)\n",
    "#val_sel.append(total_RF5 if total_RF5 > total_LAMDA5 else total_LAMDA5)\n",
    "\n",
    "for i in range(0,4):\n",
    "    if val_sel[i] > mayor:\n",
    "        mayor = val_sel[i]\n",
    "        class_sel = classif[clases[i]]\n",
    "        f_sel = i + 1\n",
    "        \n",
    "print('Seleccionado: ',class_sel, f_sel)"
   ]
  }
 ],
 "metadata": {
  "kernelspec": {
   "display_name": "Python 3",
   "language": "python",
   "name": "python3"
  },
  "language_info": {
   "codemirror_mode": {
    "name": "ipython",
    "version": 3
   },
   "file_extension": ".py",
   "mimetype": "text/x-python",
   "name": "python",
   "nbconvert_exporter": "python",
   "pygments_lexer": "ipython3",
   "version": "3.5.3"
  }
 },
 "nbformat": 4,
 "nbformat_minor": 2
}
