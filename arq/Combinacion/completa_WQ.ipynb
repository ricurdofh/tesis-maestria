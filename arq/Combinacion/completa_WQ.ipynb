{
 "cells": [
  {
   "cell_type": "markdown",
   "metadata": {},
   "source": [
    "## Inicializar variables"
   ]
  },
  {
   "cell_type": "code",
   "execution_count": 1,
   "metadata": {},
   "outputs": [],
   "source": [
    "feature_sets = [\n",
    "    [1, 3, 4, 5, 6, 7, 10],\n",
    "    [1, 4, 5, 7, 10],\n",
    "    [1, 5, 6, 7, 9, 10],\n",
    "    [1, 5, 7, 10],\n",
    "    [0, 1, 2, 4, 7, 8, 9],\n",
    "    [1, 2, 4, 7, 8],\n",
    "    [0, 5, 6, 8, 10],\n",
    "    [0, 3, 6, 8, 10]\n",
    "]\n",
    "final = []"
   ]
  },
  {
   "cell_type": "markdown",
   "metadata": {},
   "source": [
    "## Selección"
   ]
  },
  {
   "cell_type": "code",
   "execution_count": 2,
   "metadata": {},
   "outputs": [],
   "source": [
    "for i in range(0, len(feature_sets)):\n",
    "    for j in range(0, len(feature_sets[i])):\n",
    "        if not feature_sets[i][j] in final:\n",
    "            final.append(feature_sets[i][j])\n",
    "final.sort()"
   ]
  },
  {
   "cell_type": "code",
   "execution_count": 3,
   "metadata": {},
   "outputs": [
    {
     "name": "stdout",
     "output_type": "stream",
     "text": [
      "Feature set final:  [0, 1, 2, 3, 4, 5, 6, 7, 8, 9, 10]\n"
     ]
    }
   ],
   "source": [
    "print('Feature set final: ', final)"
   ]
  }
 ],
 "metadata": {
  "kernelspec": {
   "display_name": "Python 3",
   "language": "python",
   "name": "python3"
  },
  "language_info": {
   "codemirror_mode": {
    "name": "ipython",
    "version": 3
   },
   "file_extension": ".py",
   "mimetype": "text/x-python",
   "name": "python",
   "nbconvert_exporter": "python",
   "pygments_lexer": "ipython3",
   "version": "3.5.3"
  }
 },
 "nbformat": 4,
 "nbformat_minor": 2
}
